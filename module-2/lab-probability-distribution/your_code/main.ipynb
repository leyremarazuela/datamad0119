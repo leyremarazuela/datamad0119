{
 "cells": [
  {
   "cell_type": "markdown",
   "metadata": {},
   "source": [
    "# Before your start:\n",
    "- Read the README.md file\n",
    "- Comment as much as you can and use the resources (README.md file)\n",
    "- Happy learning!"
   ]
  },
  {
   "cell_type": "code",
   "execution_count": 1,
   "metadata": {},
   "outputs": [],
   "source": [
    "# Import your libraries\n",
    "import pandas as pd\n",
    "import numpy as np\n",
    "import matplotlib.pyplot as plt\n",
    "from scipy import stats\n",
    "from scipy.stats import norm\n",
    "from scipy.stats import binom\n",
    "from scipy.stats import poisson"
   ]
  },
  {
   "cell_type": "markdown",
   "metadata": {},
   "source": [
    "# Challenge 1 - Generate and Plot Normal Distributions"
   ]
  },
  {
   "cell_type": "markdown",
   "metadata": {},
   "source": [
    "#### Step 1: Generate samples and test normal distribution\n",
    "\n",
    "Use mean=50, standard_deviation=5, and sample_size=[10, 50, 500, 5000] to generate 4 random samples that are normally distributed. Test your normal distributions with [`scipy.stats.normaltest`](https://docs.scipy.org/doc/scipy/reference/generated/scipy.stats.normaltest.html).\n",
    "\n",
    "\n",
    "*Hint: Read the documentation for `scipy.stats.normaltest`. The function does not simply return Yes or No for whether your data is normal distribution. It returns the likelihood.*"
   ]
  },
  {
   "cell_type": "code",
   "execution_count": 26,
   "metadata": {
    "scrolled": true
   },
   "outputs": [
    {
     "data": {
      "text/plain": [
       "0     (4.427731475610337, 0.10927739319543087)\n",
       "1     (0.3841374476987293, 0.8252501521756767)\n",
       "2    (2.8981098719948957, 0.23479207681490416)\n",
       "3     (1.8265793141439368, 0.4012022330141564)\n",
       "dtype: object"
      ]
     },
     "execution_count": 26,
     "metadata": {},
     "output_type": "execute_result"
    }
   ],
   "source": [
    "# Your code here\n",
    "mu, sigma = 50, 5\n",
    "\n",
    "sample_size = pd.Series([10, 50, 500, 5000])\n",
    "\n",
    "dists = sample_size.apply(lambda s: np.random.normal(mu, sigma, s))\n",
    "\n",
    "tests = dists.apply(lambda d: stats.normaltest(d))\n",
    "# (s*2 + k*2, p)\n",
    "# measures skewness and how concentrated values are around the mean\n",
    "tests"
   ]
  },
  {
   "cell_type": "markdown",
   "metadata": {},
   "source": [
    "#### Interpret the normaltest results and make your observations."
   ]
  },
  {
   "cell_type": "code",
   "execution_count": 29,
   "metadata": {},
   "outputs": [
    {
     "ename": "SyntaxError",
     "evalue": "invalid syntax (<ipython-input-29-6be4127fcce4>, line 1)",
     "output_type": "error",
     "traceback": [
      "\u001b[0;36m  File \u001b[0;32m\"<ipython-input-29-6be4127fcce4>\"\u001b[0;36m, line \u001b[0;32m1\u001b[0m\n\u001b[0;31m    La función stats.normaltest(x) prueba cuanto difiere una muestra de datos x de una distribucion normal.\u001b[0m\n\u001b[0m             ^\u001b[0m\n\u001b[0;31mSyntaxError\u001b[0m\u001b[0;31m:\u001b[0m invalid syntax\n"
     ]
    }
   ],
   "source": [
    "La función stats.normaltest(x) prueba cuanto difiere una muestra de datos x de una distribucion normal.\n",
    "Para ello, la función prueba la hipótesis nula al respecto de si la muestra proviene de un dataset que\n",
    "posee una distribución normal. La salida de la función es una tupla con dos valores numéricos que representan:\n",
    "   tupla[0]: la suma de los cuadrados de los test de simetría y curtosidad.\n",
    "   tupla[1]: el p-value.\n",
    "Debido a que la función pretende probar la hipótesis nula, cuanto menor sea el valor de p-value, menor es la\n",
    "probabilidad de que la distribución de datos NO sea normal, por tanto la distribución de datos es normal.\n",
    "Las muestras que se analizan en el ejemplo, son muestras de diferente tamaño pero que se generan a partir de\n",
    "una función que genera valores aleatorios que deben cumplir una distribución normal, por lo que se espera\n",
    "un valor de p-value bajo en todos los casos. Sin embargo, el resultado varía significativamente cada vez que\n",
    "se ejecuta el código.\n",
    "\n",
    "Entrada de mensaje\n",
    "Mensaje directo con OGM"
   ]
  },
  {
   "cell_type": "code",
   "execution_count": 20,
   "metadata": {},
   "outputs": [
    {
     "ename": "SyntaxError",
     "evalue": "invalid syntax (<ipython-input-20-d031b8d2fc45>, line 2)",
     "output_type": "error",
     "traceback": [
      "\u001b[0;36m  File \u001b[0;32m\"<ipython-input-20-d031b8d2fc45>\"\u001b[0;36m, line \u001b[0;32m2\u001b[0m\n\u001b[0;31m    The first value for each row measures how concentrated the values are around the mean.\u001b[0m\n\u001b[0m            ^\u001b[0m\n\u001b[0;31mSyntaxError\u001b[0m\u001b[0;31m:\u001b[0m invalid syntax\n"
     ]
    }
   ],
   "source": [
    "# Explain the test results here\n",
    "The first value for each row measures how concentrated the values are around the mean. \n",
    "The first value for each row measures how far away the median is from the mean, indicating skewness.\n",
    "\n",
    "We can see that as both these values are inversely correlated for example 6.72 with 0.034."
   ]
  },
  {
   "cell_type": "markdown",
   "metadata": {},
   "source": [
    "#### Step 2: Plot normal distributions\n",
    "\n",
    "Use matplotlib subplots to plot a histogram of each sample. \n",
    "\n",
    "*Hints:*\n",
    "- Use subplots to compare your figures side by side.\n",
    "\n",
    "- Your output should look like below:\n",
    "\n",
    "![normal distributions with different sample sizes](ch-1.png)"
   ]
  },
  {
   "cell_type": "code",
   "execution_count": 28,
   "metadata": {},
   "outputs": [
    {
     "data": {
      "image/png": "[encoded data removed]",
      "text/plain": [
       "<Figure size 1080x288 with 4 Axes>"
      ]
     },
     "metadata": {
      "needs_background": "light"
     },
     "output_type": "display_data"
    }
   ],
   "source": [
    "# Your code here\n",
    "f, ax = plt.subplots(1, 4)\n",
    "\n",
    "f.set_figwidth(15)\n",
    "\n",
    "f.subplots_adjust(wspace=1)\n",
    "\n",
    "for i in range(0, 4):\n",
    "    ax[i].set_title('n=%s' % (sample_size[i]))\n",
    "    count, bins, ignored = ax[i].hist(dists[i], 20, density=True)\n"
   ]
  },
  {
   "cell_type": "markdown",
   "metadata": {},
   "source": [
    "#### Compare the distributions above. What do you observe? Explain with the Central Limit Theorem."
   ]
  },
  {
   "cell_type": "code",
   "execution_count": 5,
   "metadata": {},
   "outputs": [
    {
     "ename": "SyntaxError",
     "evalue": "invalid syntax (<ipython-input-5-f6fa5dd25ecd>, line 2)",
     "output_type": "error",
     "traceback": [
      "\u001b[0;36m  File \u001b[0;32m\"<ipython-input-5-f6fa5dd25ecd>\"\u001b[0;36m, line \u001b[0;32m2\u001b[0m\n\u001b[0;31m    As the number of samples (bins) increases the shape of the probability density distribution tends to a\u001b[0m\n\u001b[0m         ^\u001b[0m\n\u001b[0;31mSyntaxError\u001b[0m\u001b[0;31m:\u001b[0m invalid syntax\n"
     ]
    }
   ],
   "source": [
    "# Your comment and explanation here\n",
    "As the number of samples (bins) increases the shape of the probability density distribution tends to a \n",
    "normal distribution. The mean of means tends to sigma. "
   ]
  },
  {
   "cell_type": "markdown",
   "metadata": {},
   "source": [
    "# Challenge 2 - Plot Probability Mass Function (PMF)"
   ]
  },
  {
   "cell_type": "markdown",
   "metadata": {},
   "source": [
    "#### Background knowledge\n",
    "\n",
    "[PMF](https://en.wikipedia.org/wiki/Probability_mass_function) shows the probability distribution of a **discrete random variable**. A [discrete random variable](https://en.wikipedia.org/wiki/Random_variable#Discrete_random_variable) has random numeric values that are not continuous. For example, the number of people in a household can only be integers but not floats. Therefore the number of people in a household is a discrete variable.\n",
    "\n",
    "#### Question: We assume that the probability of clicking an Ad in a Youtube video is 0.15. We have a sample of 5 people who wathched the video and we want to plot the PMF for a binomial distribution.\n",
    "\n",
    "*Hint: use binom from `scipy.stats.binom`. Your output should look like below:*\n",
    "\n",
    "![binom 10](ch-2.png)"
   ]
  },
  {
   "cell_type": "code",
   "execution_count": 6,
   "metadata": {},
   "outputs": [
    {
     "data": {
      "image/png": "[encoded data removed]",
      "text/plain": [
       "<Figure size 432x288 with 1 Axes>"
      ]
     },
     "metadata": {
      "needs_background": "light"
     },
     "output_type": "display_data"
    }
   ],
   "source": [
    "# Your code here\n",
    "from scipy.stats import binom\n",
    "\n",
    "n, p = 5, 0.15\n",
    "\n",
    "x = range(n)\n",
    "\n",
    "dist = binom(n, p)\n",
    "\n",
    "fig, ax = plt.subplots(1, 1)\n",
    "\n",
    "plt.plot(x, dist.pmf(x))\n",
    "\n",
    "plt.show()"
   ]
  },
  {
   "cell_type": "markdown",
   "metadata": {},
   "source": [
    "#### Explain what you observe from the plot above"
   ]
  },
  {
   "cell_type": "code",
   "execution_count": 7,
   "metadata": {},
   "outputs": [
    {
     "ename": "SyntaxError",
     "evalue": "invalid syntax (<ipython-input-7-084407ef94c8>, line 2)",
     "output_type": "error",
     "traceback": [
      "\u001b[0;36m  File \u001b[0;32m\"<ipython-input-7-084407ef94c8>\"\u001b[0;36m, line \u001b[0;32m2\u001b[0m\n\u001b[0;31m    The probability of clicking on the add is much higher the lower the number of people.\u001b[0m\n\u001b[0m                  ^\u001b[0m\n\u001b[0;31mSyntaxError\u001b[0m\u001b[0;31m:\u001b[0m invalid syntax\n"
     ]
    }
   ],
   "source": [
    "# Your comment here\n",
    "The probability of clicking on the add is much higher the lower the number of people.\n",
    "The probability that 4 people or more have clicked the video is 0.\n",
    "The probability that 0 people have clicked the video is higher than 0.4.\n"
   ]
  },
  {
   "cell_type": "markdown",
   "metadata": {},
   "source": [
    "#### Now plot PMP with 50, 500, and 5000 visitors."
   ]
  },
  {
   "cell_type": "code",
   "execution_count": 8,
   "metadata": {},
   "outputs": [
    {
     "data": {
      "image/png": "[encoded data removed]",
      "text/plain": [
       "<Figure size 432x288 with 1 Axes>"
      ]
     },
     "metadata": {
      "needs_background": "light"
     },
     "output_type": "display_data"
    },
    {
     "name": "stdout",
     "output_type": "stream",
     "text": [
      "=====\n"
     ]
    },
    {
     "data": {
      "image/png": "[encoded data removed]",
      "text/plain": [
       "<Figure size 432x288 with 1 Axes>"
      ]
     },
     "metadata": {
      "needs_background": "light"
     },
     "output_type": "display_data"
    },
    {
     "name": "stdout",
     "output_type": "stream",
     "text": [
      "=====\n"
     ]
    },
    {
     "data": {
      "image/png": "[encoded data removed]",
      "text/plain": [
       "<Figure size 432x288 with 1 Axes>"
      ]
     },
     "metadata": {
      "needs_background": "light"
     },
     "output_type": "display_data"
    }
   ],
   "source": [
    "# Your code here\n",
    "from scipy.stats import binom\n",
    "\n",
    "n, p = 50, 0.15\n",
    "\n",
    "x = range(n)\n",
    "\n",
    "dist = binom(n, p)\n",
    "\n",
    "fig, ax = plt.subplots(1, 1)\n",
    "\n",
    "plt.plot(x, dist.pmf(x))\n",
    "\n",
    "plt.show()\n",
    "\n",
    "print(\"=====\")\n",
    "\n",
    "n, p = 500, 0.15\n",
    "\n",
    "x = range(n)\n",
    "\n",
    "dist = binom(n, p)\n",
    "\n",
    "fig, ax = plt.subplots(1, 1)\n",
    "\n",
    "plt.plot(x, dist.pmf(x))\n",
    "\n",
    "plt.show()\n",
    "\n",
    "print(\"=====\")\n",
    "\n",
    "n, p = 5000, 0.15\n",
    "\n",
    "x = range(n)\n",
    "\n",
    "dist = binom(n, p)\n",
    "\n",
    "fig, ax = plt.subplots(1, 1)\n",
    "\n",
    "plt.plot(x, dist.pmf(x))\n",
    "\n",
    "plt.show()"
   ]
  },
  {
   "cell_type": "markdown",
   "metadata": {},
   "source": [
    "#### What did you notice from the distribution plots? Comment your findings."
   ]
  },
  {
   "cell_type": "code",
   "execution_count": 9,
   "metadata": {},
   "outputs": [
    {
     "ename": "SyntaxError",
     "evalue": "invalid syntax (<ipython-input-9-3abd8c6f759b>, line 2)",
     "output_type": "error",
     "traceback": [
      "\u001b[0;36m  File \u001b[0;32m\"<ipython-input-9-3abd8c6f759b>\"\u001b[0;36m, line \u001b[0;32m2\u001b[0m\n\u001b[0;31m    The more samples that are taken, the clearer it is to see where the mean lies and the closer the probability of each\u001b[0m\n\u001b[0m           ^\u001b[0m\n\u001b[0;31mSyntaxError\u001b[0m\u001b[0;31m:\u001b[0m invalid syntax\n"
     ]
    }
   ],
   "source": [
    "# Your comment here\n",
    "The more samples that are taken, the clearer it is to see where the mean lies and the closer the probability of each\n",
    "random variable that tends to 0. \n",
    "Also, as sample size increases, the data becomes less evenly distributed, so there is less variation.\n",
    "However, the area below each curve is 1. "
   ]
  },
  {
   "cell_type": "markdown",
   "metadata": {},
   "source": [
    "# Challenge 3"
   ]
  },
  {
   "cell_type": "markdown",
   "metadata": {},
   "source": [
    "#### Reaserch the Poisson distribution. Write about your own understanding of the Poisson distribution."
   ]
  },
  {
   "cell_type": "code",
   "execution_count": 10,
   "metadata": {},
   "outputs": [
    {
     "ename": "SyntaxError",
     "evalue": "invalid syntax (<ipython-input-10-1dbd6268cb46>, line 2)",
     "output_type": "error",
     "traceback": [
      "\u001b[0;36m  File \u001b[0;32m\"<ipython-input-10-1dbd6268cb46>\"\u001b[0;36m, line \u001b[0;32m2\u001b[0m\n\u001b[0;31m    The poisson distribution models discrete values where we do not know how many sample tests are taken but we do\u001b[0m\n\u001b[0m              ^\u001b[0m\n\u001b[0;31mSyntaxError\u001b[0m\u001b[0;31m:\u001b[0m invalid syntax\n"
     ]
    }
   ],
   "source": [
    "# Your comment here\n",
    "The poisson distribution models discrete values where we do not know how many sample tests are taken but we do \n",
    "know where the mean of these test lies.\n",
    "\n",
    "For example we know that on average 3 cars pass a point every hour but we do not \n",
    "know the number of cars that pass overall."
   ]
  },
  {
   "cell_type": "markdown",
   "metadata": {},
   "source": [
    "#### A website has an average of 300 visits per day. What is the probability of getting 320 visitors in a day?\n",
    "\n",
    "*Hint: use `scipy.stats.poisson`*"
   ]
  },
  {
   "cell_type": "code",
   "execution_count": 11,
   "metadata": {},
   "outputs": [
    {
     "data": {
      "image/png": "[encoded data removed]",
      "text/plain": [
       "<Figure size 432x288 with 1 Axes>"
      ]
     },
     "metadata": {
      "needs_background": "light"
     },
     "output_type": "display_data"
    }
   ],
   "source": [
    "# Your code here\n",
    "mu = 300\n",
    "x = 320\n",
    "fig, ax = plt.subplots(1, 1)\n",
    "\n",
    "#rv = poisson(mu)\n",
    "#ax.vlines(x, 0, rv.pmf(x))\n",
    "\n",
    "ax.plot(x, poisson.pmf(x, mu), 'bo', ms=8, label='poisson pmf')\n",
    "ax.vlines(x, 0, poisson.pmf(x, mu), colors='b', lw=5, alpha=0.5)\n",
    "\n",
    "plt.show()\n"
   ]
  },
  {
   "cell_type": "markdown",
   "metadata": {},
   "source": [
    "#### What is the probability of getting 60 visits?"
   ]
  },
  {
   "cell_type": "code",
   "execution_count": 18,
   "metadata": {},
   "outputs": [
    {
     "data": {
      "image/png": "[encoded data removed]",
      "text/plain": [
       "<Figure size 432x288 with 1 Axes>"
      ]
     },
     "metadata": {
      "needs_background": "light"
     },
     "output_type": "display_data"
    }
   ],
   "source": [
    "# Your code here\n",
    "mu = 300\n",
    "x = 60\n",
    "fig, ax = plt.subplots(1, 1)\n",
    "\n",
    "ax.plot(x, poisson.pmf(x, mu), 'bo', ms=8, label='poisson pmf')\n",
    "ax.vlines(x, 0, poisson.pmf(x, mu))\n",
    "\n",
    "plt.show()\n"
   ]
  },
  {
   "cell_type": "markdown",
   "metadata": {},
   "source": [
    "#### Plot the distribution of the probability for getting 0-1000 visits.\n",
    "\n",
    "*Hints:* \n",
    "\n",
    "- Create a list to store the Poisson distribution probabilities for n=0 to 1000. Then plot the probabilities.\n",
    "\n",
    "- Your plot should look like below:\n",
    "\n",
    "![poisson distribution](ch-3.png)"
   ]
  },
  {
   "cell_type": "code",
   "execution_count": 14,
   "metadata": {},
   "outputs": [
    {
     "data": {
      "text/plain": [
       "[<matplotlib.lines.Line2D at 0x118ea1940>]"
      ]
     },
     "execution_count": 14,
     "metadata": {},
     "output_type": "execute_result"
    },
    {
     "data": {
      "image/png": "[encoded data removed]",
      "text/plain": [
       "<Figure size 432x288 with 1 Axes>"
      ]
     },
     "metadata": {
      "needs_background": "light"
     },
     "output_type": "display_data"
    }
   ],
   "source": [
    "# your code here\n",
    "from scipy.stats import poisson\n",
    "\n",
    "N = np.arange(1000)\n",
    "\n",
    "rv = poisson(300)\n",
    "\n",
    "arr = []\n",
    "\n",
    "for n in N:\n",
    "    arr.append(rv.pmf(n))\n",
    "\n",
    "plt.plot(arr)"
   ]
  },
  {
   "cell_type": "code",
   "execution_count": null,
   "metadata": {},
   "outputs": [],
   "source": []
  }
 ],
 "metadata": {
  "anaconda-cloud": {},
  "kernelspec": {
   "display_name": "Python 3",
   "language": "python",
   "name": "python3"
  },
  "language_info": {
   "codemirror_mode": {
    "name": "ipython",
    "version": 3
   },
   "file_extension": ".py",
   "mimetype": "text/x-python",
   "name": "python",
   "nbconvert_exporter": "python",
   "pygments_lexer": "ipython3",
   "version": "3.7.2"
  }
 },
 "nbformat": 4,
 "nbformat_minor": 1
}

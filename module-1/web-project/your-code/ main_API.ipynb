{
 "cells": [
  {
   "cell_type": "markdown",
   "metadata": {},
   "source": [
    "# API WIKIPEDIA"
   ]
  },
  {
   "cell_type": "code",
   "execution_count": 21,
   "metadata": {},
   "outputs": [
    {
     "name": "stdout",
     "output_type": "stream",
     "text": [
      "           batchcomplete continue  \\\n",
      "continue                      -||   \n",
      "search                        NaN   \n",
      "searchinfo                    NaN   \n",
      "sroffset                       10   \n",
      "\n",
      "                                                        query  \n",
      "continue                                                  NaN  \n",
      "search      [{'ns': 0, 'title': 'OpenView Venture Partners...  \n",
      "searchinfo                                {'totalhits': 4666}  \n",
      "sroffset                                                  NaN  \n",
      "Your search page 'OpenView Venture Partners' exists on English Wikipedia\n",
      "           batchcomplete continue  \\\n",
      "continue                      -||   \n",
      "search                        NaN   \n",
      "searchinfo                    NaN   \n",
      "sroffset                       10   \n",
      "\n",
      "                                                        query  \n",
      "continue                                                  NaN  \n",
      "search      [{'ns': 0, 'title': 'Elevation Partners', 'pag...  \n",
      "searchinfo                                {'totalhits': 4484}  \n",
      "sroffset                                                  NaN  \n",
      "Your search page 'Elevation Partners' exists on English Wikipedia\n"
     ]
    }
   ],
   "source": [
    "import requests\n",
    "import pandas as pd\n",
    "\n",
    "S = requests.Session()\n",
    "URL = \"https://en.wikipedia.org/w/api.php\"\n",
    "\n",
    "pages = [\"OpenView Venture Partners\", 'Elevation Partners']\n",
    "\n",
    "for page in pages:\n",
    "    SEARCHPAGE = page \n",
    "\n",
    "    PARAMS = {\n",
    "        'action':\"query\",\n",
    "        'list':\"search\",\n",
    "        'srsearch': SEARCHPAGE,\n",
    "        'format':\"json\"\n",
    "    }\n",
    "\n",
    "    R = S.get(url=URL, params=PARAMS)\n",
    "    #https://www.mediawiki.org/wiki/Special:MyLanguage/API:18587037\n",
    "\n",
    "    DATA = R.json()\n",
    "\n",
    "    if DATA['query']['search'][0]['title'] == SEARCHPAGE:\n",
    "        print(\"Your search page '\" + SEARCHPAGE + \"' exists on English Wikipedia\")\n",
    "\n"
   ]
  },
  {
   "cell_type": "code",
   "execution_count": null,
   "metadata": {},
   "outputs": [],
   "source": []
  }
 ],
 "metadata": {
  "kernelspec": {
   "display_name": "Python 3",
   "language": "python",
   "name": "python3"
  },
  "language_info": {
   "codemirror_mode": {
    "name": "ipython",
    "version": 3
   },
   "file_extension": ".py",
   "mimetype": "text/x-python",
   "name": "python",
   "nbconvert_exporter": "python",
   "pygments_lexer": "ipython3",
   "version": "3.7.2"
  }
 },
 "nbformat": 4,
 "nbformat_minor": 2
}

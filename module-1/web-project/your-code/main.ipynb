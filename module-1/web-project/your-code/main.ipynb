{
 "cells": [
  {
   "cell_type": "markdown",
   "metadata": {},
   "source": [
    "# WEB SCRAPING "
   ]
  },
  {
   "cell_type": "code",
   "execution_count": 91,
   "metadata": {},
   "outputs": [],
   "source": [
    "import requests\n",
    "import pandas as pd\n",
    "from bs4 import BeautifulSoup\n"
   ]
  },
  {
   "cell_type": "code",
   "execution_count": 92,
   "metadata": {},
   "outputs": [],
   "source": [
    "url = 'https://en.wikipedia.org/wiki/List_of_venture_capital_firms'\n",
    "html = requests.get(url).content\n",
    "soup = BeautifulSoup(html, \"lxml\")\n"
   ]
  },
  {
   "cell_type": "code",
   "execution_count": 93,
   "metadata": {},
   "outputs": [],
   "source": [
    "table = soup.find_all('table',{'class':'wikitable sortable'})[0]\n",
    "#print(table)"
   ]
  },
  {
   "cell_type": "code",
   "execution_count": 102,
   "metadata": {},
   "outputs": [],
   "source": [
    "rows = table.find_all('tr')\n",
    "\n",
    "rows = [row.text.strip().split(\"\\n\") for row in rows]\n",
    "table_clean = []\n",
    "for item in rows:\n",
    "    a = item[0:len(item):2]\n",
    "    table_clean.append(a)\n",
    "df = pd.DataFrame(table_clean)\n",
    "#df"
   ]
  },
  {
   "cell_type": "code",
   "execution_count": 104,
   "metadata": {},
   "outputs": [],
   "source": [
    "df.rename(columns={0:'Name', 1: 'Location', 2: 'Year Established', 3 :'Partners', 4:'Industries of Focus',5:'Assets under management'}, inplace=True)\n",
    "#df"
   ]
  },
  {
   "cell_type": "code",
   "execution_count": 106,
   "metadata": {},
   "outputs": [],
   "source": [
    "df = df.loc[df['Name'] != 'Name']\n",
    "''' \n",
    "# df = df.drop(columns = [5])\n",
    "#df\n",
    "'''"
   ]
  },
  {
   "cell_type": "markdown",
   "metadata": {},
   "source": [
    "# API"
   ]
  },
  {
   "cell_type": "code",
   "execution_count": 112,
   "metadata": {
    "scrolled": true
   },
   "outputs": [],
   "source": [
    "import requests\n",
    "import pandas as pd\n",
    "\n",
    "S = requests.Session()\n",
    "URL = \"https://en.wikipedia.org/w/api.php\"\n",
    "\n",
    "pages = list(df[df.columns[0]])\n",
    "summary_firms = []\n",
    "\n",
    "for page in pages:\n",
    "    SEARCHPAGE = page \n",
    "\n",
    "    PARAMS = {\n",
    "        'action': 'opensearch',\n",
    "        'list':\"search\",\n",
    "        'search': SEARCHPAGE,\n",
    "        'format':\"json\"\n",
    "    }\n",
    "\n",
    "    R = S.get(url=URL, params=PARAMS)\n",
    "    DATA = R.json()\n",
    "  \n",
    "    summary_firm = DATA[2]\n",
    "        \n",
    "    if summary_firm != ['']:\n",
    "        summary_firms.append(summary_firm)\n",
    "\n",
    "df_summry = pd.DataFrame(summary_firms)\n",
    "df_api = df_summry[0]\n",
    "#df_api"
   ]
  },
  {
   "cell_type": "code",
   "execution_count": 113,
   "metadata": {},
   "outputs": [
    {
     "data": {
      "text/plain": [
       "'\\nhelp to merge 2 databases\\ndf.append(df_api)\\ndf\\n'"
      ]
     },
     "execution_count": 113,
     "metadata": {},
     "output_type": "execute_result"
    }
   ],
   "source": [
    "'''\n",
    "help to merge 2 databases\n",
    "df.append(df_api)\n",
    "df\n",
    "'''"
   ]
  },
  {
   "cell_type": "markdown",
   "metadata": {},
   "source": [
    "# EXPORT CLEAN CSV FILE"
   ]
  },
  {
   "cell_type": "code",
   "execution_count": null,
   "metadata": {},
   "outputs": [],
   "source": [
    "''' \n",
    "finaldf = XXXXX\n",
    "finaldf.to_csv('output.csv', index=False, header=None)\n",
    "'''"
   ]
  }
 ],
 "metadata": {
  "kernelspec": {
   "display_name": "Python 3",
   "language": "python",
   "name": "python3"
  },
  "language_info": {
   "codemirror_mode": {
    "name": "ipython",
    "version": 3
   },
   "file_extension": ".py",
   "mimetype": "text/x-python",
   "name": "python",
   "nbconvert_exporter": "python",
   "pygments_lexer": "ipython3",
   "version": "3.7.2"
  }
 },
 "nbformat": 4,
 "nbformat_minor": 2
}

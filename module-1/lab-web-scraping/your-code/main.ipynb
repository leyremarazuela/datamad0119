{
 "cells": [
  {
   "cell_type": "markdown",
   "metadata": {},
   "source": [
    "# Web Scraping Lab\n",
    "\n",
    "You will find in this notebook some scrapy exercises to practise your scraping skills.\n",
    "\n",
    "**Tips:**\n",
    "\n",
    "- Check the response status code for each request to ensure you have obtained the intended contennt.\n",
    "- Print the response text in each request to understand the kind of info you are getting and its format.\n",
    "- Check for patterns in the response text to extract the data/info requested in each question.\n",
    "- Visit each url and take a look at its source through Chrome DevTools. You'll need to identify the html tags, special class names etc. used for the html content you are expected to extract."
   ]
  },
  {
   "cell_type": "markdown",
   "metadata": {},
   "source": [
    "- [Requests library](http://docs.python-requests.org/en/master/#the-user-guide) documentation \n",
    "- [Beautiful Soup Doc](https://www.crummy.com/software/BeautifulSoup/bs4/doc/)\n",
    "- [Urllib](https://docs.python.org/3/library/urllib.html#module-urllib)\n",
    "- [re lib](https://docs.python.org/3/library/re.html)\n",
    "- [lxml lib](https://lxml.de/)\n",
    "- [Scrapy](https://scrapy.org/)\n",
    "- [List of HTTP status codes](https://en.wikipedia.org/wiki/List_of_HTTP_status_codes)\n",
    "- [HTML basics](http://www.simplehtmlguide.com/cheatsheet.php)\n",
    "- [CSS basics](https://www.cssbasics.com/#page_start)"
   ]
  },
  {
   "cell_type": "markdown",
   "metadata": {},
   "source": [
    "#### Below are the libraries and modules you may need. `requests`,  `BeautifulSoup` and `pandas` are imported for you. If you prefer to use additional libraries feel free to uncomment them."
   ]
  },
  {
   "cell_type": "code",
   "execution_count": 20,
   "metadata": {},
   "outputs": [],
   "source": [
    "import requests\n",
    "from bs4 import BeautifulSoup\n",
    "import pandas as pd\n",
    "# from pprint import pprint\n",
    "# from lxml import html\n",
    "# from lxml.html import fromstring\n",
    "# import urllib.request\n",
    "# from urllib.request import urlopen\n",
    "# import random\n",
    "# import re\n",
    "# import scrapy"
   ]
  },
  {
   "cell_type": "markdown",
   "metadata": {},
   "source": [
    "#### Download, parse (using BeautifulSoup), and print the content from the Trending Developers page from GitHub:"
   ]
  },
  {
   "cell_type": "code",
   "execution_count": 21,
   "metadata": {},
   "outputs": [],
   "source": [
    "# This is the url you will scrape in this exercise\n",
    "url = 'https://github.com/trending/developers'"
   ]
  },
  {
   "cell_type": "code",
   "execution_count": 56,
   "metadata": {},
   "outputs": [
    {
     "name": "stdout",
     "output_type": "stream",
     "text": [
      "['rsms(Rasmus)', 'toddmotto(ToddMotto)', 'gto76(JureŠorn)', 'NVlabs(NVIDIAResearchProjects)', 'isacikgoz(IbrahimSerdarAcikgoz)', 'nextapps-de(NextappsGmbH)', 'kleampa(DragoiCiprian)', 'facebook(Facebook)', 'symfony(Symfony)', 'Microsoft(Microsoft)', 'google(Google)', 'labs42io(Labs42)', 'kmario23(Mario)', 'sindresorhus(SindreSorhus)', 'pomber(RodrigoPombo)', 'vuejs(vuejs)', 'RustPython', 'vietnguyen91(VietNguyen)', 'cjbassi(CalebBassi)', 'facebookresearch(FacebookResearch)', 'notion-cli(Notion:theHassle-FreeToolManagerforNode)', 'tyroprogrammer(GaneshBhattarai)', 'airbnb(Airbnb)', 'tensorflow', 'rShetty(RajeevNBharshetty)']\n"
     ]
    }
   ],
   "source": [
    "html = requests.get(url).content\n",
    "soup = BeautifulSoup(html, \"lxml\")\n",
    "\n",
    "h2_all = soup.find_all('h2')\n",
    "names = [element.text.replace(\" \",\"\").replace(\"\\n\",\"\") for element in h2_all]\n",
    "\n",
    "print(names)\n"
   ]
  },
  {
   "cell_type": "markdown",
   "metadata": {},
   "source": [
    "#### Display the names of the trending developers retrieved in the previous step.\n",
    "\n",
    "Your output should be a Python list of developer names. Each name should not contain any html tag.\n",
    "\n",
    "**Instructions:**\n",
    "\n",
    "1. Find out the html tag and class names used for the developer names. You can achieve this using Chrome DevTools.\n",
    "\n",
    "1. Use BeautifulSoup to extract all the html elements that contain the developer names.\n",
    "\n",
    "1. Use string manipulation techniques to replace whitespaces and linebreaks (i.e. `\\n`) in the *text* of each html element. Use a list to store the clean names.\n",
    "\n",
    "1. Print the list of names.\n",
    "\n",
    "Your output should look like below:\n",
    "\n",
    "```\n",
    "['trimstray (@trimstray)',\n",
    " 'joewalnes (JoeWalnes)',\n",
    " 'charlax (Charles-AxelDein)',\n",
    " 'ForrestKnight (ForrestKnight)',\n",
    " 'revery-ui (revery-ui)',\n",
    " 'alibaba (Alibaba)',\n",
    " 'Microsoft (Microsoft)',\n",
    " 'github (GitHub)',\n",
    " 'facebook (Facebook)',\n",
    " 'boazsegev (Bo)',\n",
    " 'google (Google)',\n",
    " 'cloudfetch',\n",
    " 'sindresorhus (SindreSorhus)',\n",
    " 'tensorflow',\n",
    " 'apache (TheApacheSoftwareFoundation)',\n",
    " 'DevonCrawford (DevonCrawford)',\n",
    " 'ARMmbed (ArmMbed)',\n",
    " 'vuejs (vuejs)',\n",
    " 'fastai (fast.ai)',\n",
    " 'QiShaoXuan (Qi)',\n",
    " 'joelparkerhenderson (JoelParkerHenderson)',\n",
    " 'torvalds (LinusTorvalds)',\n",
    " 'CyC2018',\n",
    " 'komeiji-satori (神楽坂覚々)',\n",
    " 'script-8']\n",
    " ```"
   ]
  },
  {
   "cell_type": "markdown",
   "metadata": {},
   "source": [
    "#### Display the trending Python repositories in GitHub\n",
    "\n",
    "The steps to solve this problem is similar to the previous one except that you need to find out the repository names instead of developer names."
   ]
  },
  {
   "cell_type": "code",
   "execution_count": 57,
   "metadata": {},
   "outputs": [],
   "source": [
    "# This is the url you will scrape in this exercise\n",
    "url = 'https://github.com/trending/python?since=daily'\n",
    "html = requests.get(url).content\n",
    "soup = BeautifulSoup(html, \"lxml\")\n"
   ]
  },
  {
   "cell_type": "code",
   "execution_count": 58,
   "metadata": {},
   "outputs": [
    {
     "name": "stdout",
     "output_type": "stream",
     "text": [
      "['rsms/inter', 'gto76/python-cheatsheet', 'toddmotto/public-apis', 'NVlabs/stylegan', 'vietnguyen91/QuickDraw', 'facebookresearch/XLM', 'NVlabs/ffhq-dataset', 'caronc/apprise', 'deepmind/hanabi-learning-environment', 'stanfordnlp/stanfordnlp', 'donnemartin/system-design-primer', 'jliljebl/flowblade', 'torfsen/python-systemd-tutorial', 'tensorflow/models', 'vinta/awesome-python', 'UltimateSoftware/AGENT', 'nosarthur/gita', 'rg3/youtube-dl', 'depthsecurity/armory', 'deepfakes/faceswap', 'ageitgey/face_recognition', 'bourdakos1/tfjs-object-detection-training', 'vietnguyen91/ASCII-generator', 'TheAlgorithms/Python', 'keras-team/keras']\n"
     ]
    }
   ],
   "source": [
    "h3_all = soup.find_all('h3')\n",
    "names = [element.text.replace(\" \",\"\").replace(\"\\n\",\"\") for element in h3_all]\n",
    "\n",
    "print(names)\n"
   ]
  },
  {
   "cell_type": "markdown",
   "metadata": {},
   "source": [
    "#### Display all the image links from Walt Disney wikipedia page"
   ]
  },
  {
   "cell_type": "code",
   "execution_count": 62,
   "metadata": {},
   "outputs": [],
   "source": [
    "# This is the url you will scrape in this exercise\n",
    "url = 'https://en.wikipedia.org/wiki/Walt_Disney'\n",
    "html = requests.get(url).content\n",
    "soup = BeautifulSoup(html, \"lxml\")\n"
   ]
  },
  {
   "cell_type": "code",
   "execution_count": 98,
   "metadata": {},
   "outputs": [
    {
     "name": "stdout",
     "output_type": "stream",
     "text": [
      "//upload.wikimedia.org/wikipedia/en/thumb/e/e7/Cscr-featured.svg/30px-Cscr-featured.svg.png 1.5x, //upload.wikimedia.org/wikipedia/en/thumb/e/e7/Cscr-featured.svg/40px-Cscr-featured.svg.png 2x\n",
      "//upload.wikimedia.org/wikipedia/en/thumb/1/1b/Semi-protection-shackle.svg/30px-Semi-protection-shackle.svg.png 1.5x, //upload.wikimedia.org/wikipedia/en/thumb/1/1b/Semi-protection-shackle.svg/40px-Semi-protection-shackle.svg.png 2x\n",
      "//upload.wikimedia.org/wikipedia/commons/thumb/d/df/Walt_Disney_1946.JPG/330px-Walt_Disney_1946.JPG 1.5x, //upload.wikimedia.org/wikipedia/commons/thumb/d/df/Walt_Disney_1946.JPG/440px-Walt_Disney_1946.JPG 2x\n",
      "//upload.wikimedia.org/wikipedia/commons/thumb/8/87/Walt_Disney_1942_signature.svg/225px-Walt_Disney_1942_signature.svg.png 1.5x, //upload.wikimedia.org/wikipedia/commons/thumb/8/87/Walt_Disney_1942_signature.svg/300px-Walt_Disney_1942_signature.svg.png 2x\n",
      "//upload.wikimedia.org/wikipedia/commons/thumb/c/c4/Walt_Disney_envelope_ca._1921.jpg/330px-Walt_Disney_envelope_ca._1921.jpg 1.5x, //upload.wikimedia.org/wikipedia/commons/thumb/c/c4/Walt_Disney_envelope_ca._1921.jpg/440px-Walt_Disney_envelope_ca._1921.jpg 2x\n",
      "None\n",
      "//upload.wikimedia.org/wikipedia/commons/thumb/0/0d/Trolley_Troubles_poster.jpg/255px-Trolley_Troubles_poster.jpg 1.5x, //upload.wikimedia.org/wikipedia/commons/thumb/0/0d/Trolley_Troubles_poster.jpg/340px-Trolley_Troubles_poster.jpg 2x\n",
      "//upload.wikimedia.org/wikipedia/en/thumb/4/4e/Steamboat-willie.jpg/255px-Steamboat-willie.jpg 1.5x, //upload.wikimedia.org/wikipedia/en/thumb/4/4e/Steamboat-willie.jpg/340px-Steamboat-willie.jpg 2x\n",
      "//upload.wikimedia.org/wikipedia/commons/thumb/5/57/Walt_Disney_1935.jpg/255px-Walt_Disney_1935.jpg 1.5x, //upload.wikimedia.org/wikipedia/commons/thumb/5/57/Walt_Disney_1935.jpg/340px-Walt_Disney_1935.jpg 2x\n",
      "//upload.wikimedia.org/wikipedia/commons/thumb/c/cd/Walt_Disney_Snow_white_1937_trailer_screenshot_%2813%29.jpg/330px-Walt_Disney_Snow_white_1937_trailer_screenshot_%2813%29.jpg 1.5x, //upload.wikimedia.org/wikipedia/commons/thumb/c/cd/Walt_Disney_Snow_white_1937_trailer_screenshot_%2813%29.jpg/440px-Walt_Disney_Snow_white_1937_trailer_screenshot_%2813%29.jpg 2x\n",
      "//upload.wikimedia.org/wikipedia/commons/thumb/1/15/Disney_drawing_goofy.jpg/255px-Disney_drawing_goofy.jpg 1.5x, //upload.wikimedia.org/wikipedia/commons/thumb/1/15/Disney_drawing_goofy.jpg/340px-Disney_drawing_goofy.jpg 2x\n",
      "//upload.wikimedia.org/wikipedia/commons/thumb/1/13/DisneySchiphol1951.jpg/330px-DisneySchiphol1951.jpg 1.5x, //upload.wikimedia.org/wikipedia/commons/thumb/1/13/DisneySchiphol1951.jpg/440px-DisneySchiphol1951.jpg 2x\n",
      "//upload.wikimedia.org/wikipedia/commons/thumb/8/8c/WaltDisneyplansDisneylandDec1954.jpg/330px-WaltDisneyplansDisneylandDec1954.jpg 1.5x, //upload.wikimedia.org/wikipedia/commons/thumb/8/8c/WaltDisneyplansDisneylandDec1954.jpg/440px-WaltDisneyplansDisneylandDec1954.jpg 2x\n",
      "//upload.wikimedia.org/wikipedia/commons/thumb/f/ff/Walt_disney_portrait_right.jpg/255px-Walt_disney_portrait_right.jpg 1.5x, //upload.wikimedia.org/wikipedia/commons/thumb/f/ff/Walt_disney_portrait_right.jpg/340px-Walt_disney_portrait_right.jpg 2x\n",
      "//upload.wikimedia.org/wikipedia/commons/thumb/1/1a/Walt_Disney_Grave.JPG/255px-Walt_Disney_Grave.JPG 1.5x, //upload.wikimedia.org/wikipedia/commons/thumb/1/1a/Walt_Disney_Grave.JPG/340px-Walt_Disney_Grave.JPG 2x\n",
      "//upload.wikimedia.org/wikipedia/commons/2/2d/Roy_O._Disney_with_Company_at_Press_Conference.jpg 1.5x\n",
      "//upload.wikimedia.org/wikipedia/commons/thumb/a/a9/Disney_Display_Case.JPG/255px-Disney_Display_Case.JPG 1.5x, //upload.wikimedia.org/wikipedia/commons/thumb/a/a9/Disney_Display_Case.JPG/340px-Disney_Display_Case.JPG 2x\n",
      "//upload.wikimedia.org/wikipedia/commons/6/6c/Disney1968.jpg 1.5x\n",
      "//upload.wikimedia.org/wikipedia/commons/thumb/7/73/Blue_pencil.svg/15px-Blue_pencil.svg.png 1.5x, //upload.wikimedia.org/wikipedia/commons/thumb/7/73/Blue_pencil.svg/20px-Blue_pencil.svg.png 2x\n",
      "//upload.wikimedia.org/wikipedia/en/thumb/6/69/P_vip.svg/44px-P_vip.svg.png 1.5x, //upload.wikimedia.org/wikipedia/en/thumb/6/69/P_vip.svg/59px-P_vip.svg.png 2x\n",
      "//upload.wikimedia.org/wikipedia/en/thumb/e/e7/Video-x-generic.svg/45px-Video-x-generic.svg.png 1.5x, //upload.wikimedia.org/wikipedia/en/thumb/e/e7/Video-x-generic.svg/60px-Video-x-generic.svg.png 2x\n",
      "//upload.wikimedia.org/wikipedia/commons/thumb/a/a3/Flag_of_Los_Angeles_County%2C_California.svg/45px-Flag_of_Los_Angeles_County%2C_California.svg.png 1.5x, //upload.wikimedia.org/wikipedia/commons/thumb/a/a3/Flag_of_Los_Angeles_County%2C_California.svg/60px-Flag_of_Los_Angeles_County%2C_California.svg.png 2x\n",
      "//upload.wikimedia.org/wikipedia/commons/thumb/a/a3/USA_flag_on_television.svg/45px-USA_flag_on_television.svg.png 1.5x, //upload.wikimedia.org/wikipedia/commons/thumb/a/a3/USA_flag_on_television.svg/60px-USA_flag_on_television.svg.png 2x\n",
      "//upload.wikimedia.org/wikipedia/en/thumb/4/4a/Commons-logo.svg/33px-Commons-logo.svg.png 1.5x, //upload.wikimedia.org/wikipedia/en/thumb/4/4a/Commons-logo.svg/45px-Commons-logo.svg.png 2x\n",
      "//upload.wikimedia.org/wikipedia/commons/thumb/f/fa/Wikiquote-logo.svg/38px-Wikiquote-logo.svg.png 1.5x, //upload.wikimedia.org/wikipedia/commons/thumb/f/fa/Wikiquote-logo.svg/51px-Wikiquote-logo.svg.png 2x\n",
      "//upload.wikimedia.org/wikipedia/commons/thumb/f/ff/Wikidata-logo.svg/45px-Wikidata-logo.svg.png 1.5x, //upload.wikimedia.org/wikipedia/commons/thumb/f/ff/Wikidata-logo.svg/60px-Wikidata-logo.svg.png 2x\n",
      "//upload.wikimedia.org/wikipedia/commons/thumb/7/73/Blue_pencil.svg/15px-Blue_pencil.svg.png 1.5x, //upload.wikimedia.org/wikipedia/commons/thumb/7/73/Blue_pencil.svg/20px-Blue_pencil.svg.png 2x\n",
      "None\n",
      "/static/images/wikimedia-button-1.5x.png 1.5x, /static/images/wikimedia-button-2x.png 2x\n",
      "/static/images/poweredby_mediawiki_132x47.png 1.5x, /static/images/poweredby_mediawiki_176x62.png 2x\n"
     ]
    }
   ],
   "source": [
    "img_all = soup.find_all('img')\n",
    "\n",
    "images = [print(element.get('srcset')) for element in img_all]\n"
   ]
  },
  {
   "cell_type": "markdown",
   "metadata": {},
   "source": [
    "#### Retrieve an arbitary Wikipedia page of \"Python\" and create a list of links on that page"
   ]
  },
  {
   "cell_type": "code",
   "execution_count": 99,
   "metadata": {},
   "outputs": [],
   "source": [
    "# This is the url you will scrape in this exercise\n",
    "url ='https://en.wikipedia.org/wiki/Python' \n",
    "html = requests.get(url).content\n",
    "soup = BeautifulSoup(html, \"lxml\")\n"
   ]
  },
  {
   "cell_type": "code",
   "execution_count": 105,
   "metadata": {},
   "outputs": [],
   "source": [
    "links_all = soup.find_all('a')\n",
    "\n",
    "links = [element for element in links_all]\n"
   ]
  },
  {
   "cell_type": "markdown",
   "metadata": {},
   "source": [
    "#### Number of Titles that have changed in the United States Code since its last release point "
   ]
  },
  {
   "cell_type": "code",
   "execution_count": 112,
   "metadata": {},
   "outputs": [],
   "source": [
    "# This is the url you will scrape in this exercise\n",
    "url = 'http://uscode.house.gov/download/download.shtml'\n",
    "html = requests.get(url).content\n",
    "soup = BeautifulSoup(html, \"lxml\")\n"
   ]
  },
  {
   "cell_type": "code",
   "execution_count": 133,
   "metadata": {},
   "outputs": [
    {
     "name": "stdout",
     "output_type": "stream",
     "text": [
      "21\n"
     ]
    }
   ],
   "source": [
    "div_all = soup.find_all('div')\n",
    "\n",
    "ls = []\n",
    "for div in div_all:\n",
    "    if div.get('class') == ['usctitlechanged']:\n",
    "        ls.append(div.get('class'))\n",
    "print(len(ls))\n",
    "        "
   ]
  },
  {
   "cell_type": "markdown",
   "metadata": {},
   "source": [
    "#### A Python list with the top ten FBI's Most Wanted names "
   ]
  },
  {
   "cell_type": "code",
   "execution_count": 134,
   "metadata": {},
   "outputs": [],
   "source": [
    "# This is the url you will scrape in this exercise\n",
    "url = 'https://www.fbi.gov/wanted/topten'\n",
    "html = requests.get(url).content\n",
    "soup = BeautifulSoup(html, \"lxml\")\n"
   ]
  },
  {
   "cell_type": "code",
   "execution_count": 145,
   "metadata": {},
   "outputs": [
    {
     "name": "stdout",
     "output_type": "stream",
     "text": [
      "['LAMONT STEPHENSON', 'RAFAEL CARO-QUINTERO', 'ALEXIS FLORES', 'SANTIAGO VILLALBA MEDEROS', 'ROBERT WILLIAM FISHER', 'ALEJANDRO ROSALES CASTILLO', 'GREG ALYN CARLSON', 'YASER ABDEL SAID', 'BHADRESHKUMAR CHETANBHAI PATEL', 'JASON DEREK BROWN']\n"
     ]
    }
   ],
   "source": [
    "h3_all = soup.find_all('h3')\n",
    "\n",
    "ls = []\n",
    "for h3 in h3_all:\n",
    "    ls.append(h3.text)\n",
    "\n",
    "ls = [e.replace('\\n', '') for e in ls]\n",
    "print(ls)"
   ]
  },
  {
   "cell_type": "markdown",
   "metadata": {},
   "source": [
    "####  20 latest earthquakes info (date, time, latitude, longitude and region name) by the EMSC as a pandas dataframe"
   ]
  },
  {
   "cell_type": "code",
   "execution_count": 181,
   "metadata": {},
   "outputs": [],
   "source": [
    "# This is the url you will scrape in this exercise\n",
    "import pandas as pd\n",
    "import re\n",
    "\n",
    "url = 'https://www.emsc-csem.org/Earthquake/'\n",
    "html = requests.get(url).content\n",
    "soup = BeautifulSoup(html, \"lxml\")\n"
   ]
  },
  {
   "cell_type": "code",
   "execution_count": 210,
   "metadata": {},
   "outputs": [
    {
     "data": {
      "text/plain": [
       "['earthquake2019-02-06\\xa0\\xa0\\xa015:40:31.01hr 05min ago15.49\\xa0N\\xa0\\xa094.96\\xa0W\\xa0\\xa016 M4.1\\xa0OFFSHORE OAXACA, MEXICO2019-02-06 15:50',\n",
       " 'earthquake2019-02-06\\xa0\\xa0\\xa015:36:08.91hr 09min ago38.92\\xa0N\\xa0\\xa020.67\\xa0E\\xa0\\xa012ML3.0\\xa0GREECE2019-02-06 16:35',\n",
       " 'earthquake2019-02-06\\xa0\\xa0\\xa015:13:15.41hr 32min ago38.77\\xa0N\\xa0\\xa0118.61\\xa0W\\xa0\\xa00ml2.4\\xa0NEVADA2019-02-06 15:15',\n",
       " 'earthquake2019-02-06\\xa0\\xa0\\xa015:05:31.11hr 40min ago38.46\\xa0N\\xa0\\xa044.80\\xa0E\\xa0\\xa07ML2.5\\xa0TURKEY-IRAN BORDER REGION2019-02-06 15:14',\n",
       " 'Fearthquake2019-02-06\\xa0\\xa0\\xa014:34:44.12hr 11min ago34.51\\xa0N\\xa0\\xa046.10\\xa0E\\xa0\\xa010ML3.6\\xa0WESTERN IRAN2019-02-06 15:14',\n",
       " 'earthquake2019-02-06\\xa0\\xa0\\xa014:24:14.02hr 21min ago2.96\\xa0S\\xa0\\xa099.95\\xa0E\\xa0\\xa021 M3.8\\xa0KEP. MENTAWAI REGION, INDONESIA2019-02-06 14:35',\n",
       " 'earthquake2019-02-06\\xa0\\xa0\\xa014:08:56.32hr 37min ago38.77\\xa0N\\xa0\\xa013.95\\xa0E\\xa0\\xa034ML2.9\\xa0SICILY, ITALY2019-02-06 14:22',\n",
       " 'earthquake2019-02-06\\xa0\\xa0\\xa013:50:44.62hr 55min ago38.78\\xa0N\\xa0\\xa013.95\\xa0E\\xa0\\xa032ML2.7\\xa0SICILY, ITALY2019-02-06 14:08',\n",
       " 'earthquake2019-02-06\\xa0\\xa0\\xa013:47:01.22hr 59min ago23.01\\xa0S\\xa0\\xa0176.95\\xa0W\\xa0\\xa0100mb5.0\\xa0SOUTH OF FIJI ISLANDS2019-02-06 15:01',\n",
       " 'earthquake2019-02-06\\xa0\\xa0\\xa013:39:00.03hr 07min ago17.73\\xa0S\\xa0\\xa069.90\\xa0W\\xa0\\xa0169 M4.0\\xa0SOUTHERN PERU2019-02-06 15:10',\n",
       " 'earthquake2019-02-06\\xa0\\xa0\\xa013:31:30.03hr 14min ago9.98\\xa0N\\xa0\\xa083.67\\xa0W\\xa0\\xa04 M3.2\\xa0COSTA RICA2019-02-06 13:50',\n",
       " 'earthquake2019-02-06\\xa0\\xa0\\xa013:30:27.73hr 15min ago29.12\\xa0N\\xa0\\xa087.13\\xa0E\\xa0\\xa010mb4.3\\xa0WESTERN XIZANG2019-02-06 15:11',\n",
       " 'earthquake2019-02-06\\xa0\\xa0\\xa013:21:00.43hr 25min ago35.12\\xa0N\\xa0\\xa097.87\\xa0W\\xa0\\xa07mb2.5\\xa0OKLAHOMA2019-02-06 13:32',\n",
       " 'earthquake2019-02-06\\xa0\\xa0\\xa013:19:08.63hr 26min ago35.12\\xa0N\\xa0\\xa097.88\\xa0W\\xa0\\xa06mb2.7\\xa0OKLAHOMA2019-02-06 13:28',\n",
       " 'earthquake2019-02-06\\xa0\\xa0\\xa013:08:54.13hr 37min ago45.42\\xa0N\\xa0\\xa026.34\\xa0E\\xa0\\xa0131ML2.9\\xa0ROMANIA2019-02-06 13:54',\n",
       " 'earthquake2019-02-06\\xa0\\xa0\\xa012:52:49.33hr 53min ago19.51\\xa0N\\xa0\\xa0155.66\\xa0W\\xa0\\xa03Ml2.1\\xa0ISLAND OF HAWAII, HAWAII2019-02-06 12:58',\n",
       " 'earthquake2019-02-06\\xa0\\xa0\\xa012:46:01.84hr 00min ago38.88\\xa0N\\xa0\\xa020.53\\xa0E\\xa0\\xa09ML2.5\\xa0GREECE2019-02-06 14:38',\n",
       " 'earthquake2019-02-06\\xa0\\xa0\\xa012:40:01.14hr 06min ago38.86\\xa0N\\xa0\\xa020.61\\xa0E\\xa0\\xa014ML3.2\\xa0GREECE2019-02-06 14:08',\n",
       " 'earthquake2019-02-06\\xa0\\xa0\\xa012:20:44.54hr 25min ago19.18\\xa0N\\xa0\\xa0155.46\\xa0W\\xa0\\xa032Ml2.1\\xa0ISLAND OF HAWAII, HAWAII2019-02-06 12:26',\n",
       " 'earthquake2019-02-06\\xa0\\xa0\\xa012:17:55.14hr 28min ago38.96\\xa0N\\xa0\\xa020.63\\xa0E\\xa0\\xa012ML2.1\\xa0GREECE2019-02-06 14:26',\n",
       " 'earthquake2019-02-06\\xa0\\xa0\\xa011:56:25.84hr 49min ago36.38\\xa0N\\xa0\\xa092.99\\xa0W\\xa0\\xa06Md2.0\\xa0ARKANSAS2019-02-06 13:10',\n",
       " 'earthquake2019-02-06\\xa0\\xa0\\xa011:55:10.34hr 50min ago2.35\\xa0N\\xa0\\xa0128.78\\xa0E\\xa0\\xa040mb5.0\\xa0HALMAHERA, INDONESIA2019-02-06 15:25',\n",
       " 'earthquake2019-02-06\\xa0\\xa0\\xa011:14:39.05hr 31min ago16.66\\xa0N\\xa0\\xa096.37\\xa0W\\xa0\\xa058 M3.9\\xa0OAXACA, MEXICO2019-02-06 14:10',\n",
       " 'earthquake2019-02-06\\xa0\\xa0\\xa011:11:33.75hr 34min ago24.07\\xa0N\\xa0\\xa0124.55\\xa0E\\xa0\\xa030mb4.8\\xa0SOUTHWESTERN RYUKYU ISL., JAPAN2019-02-06 15:25',\n",
       " 'earthquake2019-02-06\\xa0\\xa0\\xa011:08:48.05hr 37min ago22.59\\xa0S\\xa0\\xa068.75\\xa0W\\xa0\\xa0114ML3.1\\xa0ANTOFAGASTA, CHILE2019-02-06 11:26',\n",
       " 'earthquake2019-02-06\\xa0\\xa0\\xa011:04:38.25hr 41min ago19.29\\xa0N\\xa0\\xa0155.49\\xa0W\\xa0\\xa04Md2.1\\xa0ISLAND OF HAWAII, HAWAII2019-02-06 11:08',\n",
       " 'earthquake2019-02-06\\xa0\\xa0\\xa011:02:30.05hr 43min ago8.84\\xa0N\\xa0\\xa082.91\\xa0W\\xa0\\xa021 M3.5\\xa0PANAMA-COSTA RICA BORDER REGION2019-02-06 13:15',\n",
       " 'earthquake2019-02-06\\xa0\\xa0\\xa010:37:31.06hr 08min ago0.18\\xa0S\\xa0\\xa0122.48\\xa0E\\xa0\\xa010 M3.9\\xa0SULAWESI, INDONESIA2019-02-06 10:45',\n",
       " 'earthquake2019-02-06\\xa0\\xa0\\xa010:28:25.06hr 17min ago36.96\\xa0N\\xa0\\xa035.54\\xa0E\\xa0\\xa014ML2.4\\xa0CENTRAL TURKEY2019-02-06 15:24',\n",
       " '11IVearthquake2019-02-06\\xa0\\xa0\\xa010:25:20.96hr 20min ago15.83\\xa0N\\xa0\\xa0120.61\\xa0E\\xa0\\xa0136Mw5.4\\xa0LUZON, PHILIPPINES2019-02-06 10:44',\n",
       " 'earthquake2019-02-06\\xa0\\xa0\\xa010:15:56.06hr 30min ago24.16\\xa0S\\xa0\\xa067.42\\xa0W\\xa0\\xa0230ML3.9\\xa0SALTA, ARGENTINA2019-02-06 10:28',\n",
       " '1earthquake2019-02-06\\xa0\\xa0\\xa009:57:59.36hr 48min ago17.99\\xa0N\\xa0\\xa068.39\\xa0W\\xa0\\xa0120Md3.2\\xa0DOMINICAN REPUBLIC REGION2019-02-06 14:01',\n",
       " 'earthquake2019-02-06\\xa0\\xa0\\xa009:23:01.77hr 23min ago63.63\\xa0N\\xa0\\xa0150.84\\xa0W\\xa0\\xa010ML2.7\\xa0CENTRAL ALASKA2019-02-06 10:24',\n",
       " 'earthquake2019-02-06\\xa0\\xa0\\xa009:20:22.37hr 25min ago36.45\\xa0N\\xa0\\xa096.88\\xa0W\\xa0\\xa05ML2.6\\xa0OKLAHOMA2019-02-06 10:03',\n",
       " 'earthquake2019-02-06\\xa0\\xa0\\xa009:14:46.07hr 31min ago16.73\\xa0N\\xa0\\xa094.72\\xa0W\\xa0\\xa023 M3.8\\xa0OAXACA, MEXICO2019-02-06 14:11',\n",
       " 'earthquake2019-02-06\\xa0\\xa0\\xa009:10:53.57hr 35min ago38.74\\xa0N\\xa0\\xa038.16\\xa0E\\xa0\\xa07ML2.0\\xa0EASTERN TURKEY2019-02-06 09:54',\n",
       " 'earthquake2019-02-06\\xa0\\xa0\\xa009:02:55.77hr 43min ago38.05\\xa0N\\xa0\\xa056.42\\xa0E\\xa0\\xa08ML3.6\\xa0NORTHEASTERN IRAN2019-02-06 10:10',\n",
       " 'earthquake2019-02-06\\xa0\\xa0\\xa008:51:44.67hr 54min ago19.36\\xa0N\\xa0\\xa068.24\\xa0W\\xa0\\xa029Md3.0\\xa0DOMINICAN REPUBLIC REGION2019-02-06 13:23',\n",
       " 'earthquake2019-02-06\\xa0\\xa0\\xa008:29:09.38hr 16min ago42.56\\xa0N\\xa0\\xa028.03\\xa0E\\xa0\\xa02ML2.3\\xa0BLACK SEA2019-02-06 15:24',\n",
       " 'earthquake2019-02-06\\xa0\\xa0\\xa008:26:54.08hr 19min ago16.98\\xa0N\\xa0\\xa098.97\\xa0W\\xa0\\xa025 M3.8\\xa0GUERRERO, MEXICO2019-02-06 14:11',\n",
       " 'earthquake2019-02-06\\xa0\\xa0\\xa008:22:40.48hr 23min ago19.62\\xa0N\\xa0\\xa0155.10\\xa0W\\xa0\\xa05Ml2.1\\xa0ISLAND OF HAWAII, HAWAII2019-02-06 08:28',\n",
       " 'earthquake2019-02-06\\xa0\\xa0\\xa008:12:24.68hr 33min ago42.58\\xa0N\\xa0\\xa028.06\\xa0E\\xa0\\xa015ML2.1\\xa0BLACK SEA2019-02-06 10:00',\n",
       " 'earthquake2019-02-06\\xa0\\xa0\\xa008:01:44.58hr 44min ago38.76\\xa0N\\xa0\\xa038.15\\xa0E\\xa0\\xa07ML2.1\\xa0EASTERN TURKEY2019-02-06 08:53',\n",
       " 'earthquake2019-02-06\\xa0\\xa0\\xa007:59:46.28hr 46min ago42.53\\xa0N\\xa0\\xa027.97\\xa0E\\xa0\\xa010ML2.7\\xa0BULGARIA2019-02-06 15:23',\n",
       " 'earthquake2019-02-06\\xa0\\xa0\\xa007:51:04.08hr 54min ago15.73\\xa0N\\xa0\\xa094.05\\xa0W\\xa0\\xa041 M3.9\\xa0OFFSHORE CHIAPAS, MEXICO2019-02-06 14:11',\n",
       " 'earthquake2019-02-06\\xa0\\xa0\\xa007:50:03.08hr 55min ago16.33\\xa0N\\xa0\\xa098.09\\xa0W\\xa0\\xa013 M3.5\\xa0OAXACA, MEXICO2019-02-06 14:11',\n",
       " 'earthquake2019-02-06\\xa0\\xa0\\xa007:41:38.99hr 04min ago30.01\\xa0N\\xa0\\xa051.45\\xa0E\\xa0\\xa08ML3.6\\xa0SOUTHERN IRAN2019-02-06 08:39',\n",
       " 'earthquake2019-02-06\\xa0\\xa0\\xa007:18:00.09hr 28min ago10.77\\xa0S\\xa0\\xa074.70\\xa0W\\xa0\\xa033 M4.2\\xa0CENTRAL PERU2019-02-06 07:55',\n",
       " 'earthquake2019-02-06\\xa0\\xa0\\xa007:02:32.09hr 43min ago30.73\\xa0S\\xa0\\xa070.42\\xa0W\\xa0\\xa020ML3.4\\xa0COQUIMBO, CHILE2019-02-06 07:14',\n",
       " 'earthquake2019-02-06\\xa0\\xa0\\xa006:59:38.49hr 46min ago36.46\\xa0N\\xa0\\xa044.03\\xa0E\\xa0\\xa010ML2.7\\xa0IRAN-IRAQ BORDER REGION2019-02-06 07:40']"
      ]
     },
     "execution_count": 210,
     "metadata": {},
     "output_type": "execute_result"
    }
   ],
   "source": [
    "table = soup.find_all('tbody',{'id':'tbody'})[0]\n",
    "rows = table.find_all('tr')\n",
    "rows = [row.text.strip() for row in rows]\n",
    "rows\n",
    "\n",
    "\n",
    "rows = [string.split('\\xa0') for string in rows]\n",
    "rows.remove\n",
    "del rows[1,2] "
   ]
  },
  {
   "cell_type": "markdown",
   "metadata": {},
   "source": [
    "# "
   ]
  },
  {
   "cell_type": "markdown",
   "metadata": {},
   "source": [
    "#### Display the date, days, title, city, country of next 25 hackathon events as a Pandas dataframe table"
   ]
  },
  {
   "cell_type": "code",
   "execution_count": 214,
   "metadata": {},
   "outputs": [],
   "source": [
    "# This is the url you will scrape in this exercise\n",
    "url ='https://hackevents.co/hackathons'\n",
    "html = requests.get(url).content\n",
    "soup = BeautifulSoup(html, \"lxml\")"
   ]
  },
  {
   "cell_type": "code",
   "execution_count": 218,
   "metadata": {},
   "outputs": [
    {
     "name": "stdout",
     "output_type": "stream",
     "text": [
      "[<div class=\"container\"><a class=\"navbar-brand\" href=\"/\"><img alt=\"Hackevents Logo\" class=\"d-inline-block align-top\" height=\"18\" src=\"/img/logos/HACKEVENTS_white.svg\" width=\"130\"/></a><button aria-controls=\"navbarNavAltMarkup\" aria-expanded=\"false\" aria-label=\"Toggle navigation\" class=\"navbar-toggler\" data-target=\"#navbarNavAltMarkup\" data-toggle=\"collapse\" style=\"border:0;\" type=\"button\"><span class=\"navbar-toggler-icon\"></span></button><div class=\"collapse navbar-collapse\" id=\"navbarNavAltMarkup\"><div class=\"navbar-nav ml-auto\"><a class=\"nav-item nav-link active\" href=\"/search/anything/anywhere/anytime\" style=\"margin-right: 30px; color: white;\">Browse Hackathons</a></div><div class=\"navbar-nav\"><a class=\"nav-item nav-link active\" href=\"/submit\" style=\"margin-right: 30px; color: white;\">Submit Event</a></div></div></div>, <div class=\"collapse navbar-collapse\" id=\"navbarNavAltMarkup\"><div class=\"navbar-nav ml-auto\"><a class=\"nav-item nav-link active\" href=\"/search/anything/anywhere/anytime\" style=\"margin-right: 30px; color: white;\">Browse Hackathons</a></div><div class=\"navbar-nav\"><a class=\"nav-item nav-link active\" href=\"/submit\" style=\"margin-right: 30px; color: white;\">Submit Event</a></div></div>, <div class=\"navbar-nav ml-auto\"><a class=\"nav-item nav-link active\" href=\"/search/anything/anywhere/anytime\" style=\"margin-right: 30px; color: white;\">Browse Hackathons</a></div>, <div class=\"navbar-nav\"><a class=\"nav-item nav-link active\" href=\"/submit\" style=\"margin-right: 30px; color: white;\">Submit Event</a></div>]\n"
     ]
    }
   ],
   "source": [
    "div_all = soup.find_all('div')\n",
    "\n",
    "\"\"\" \n",
    "ls = []\n",
    "for hackathon in div_all:\n",
    "    if hackathon.get('class') == ['card-body']:\n",
    "        ls.append(hackathon)\n",
    "\"\"\"       \n",
    "print(div_all)"
   ]
  },
  {
   "cell_type": "markdown",
   "metadata": {},
   "source": [
    "#### Count number of tweets by a given Twitter account."
   ]
  },
  {
   "cell_type": "markdown",
   "metadata": {},
   "source": [
    "You will need to include a ***try/except block*** for account names not found. \n",
    "<br>***Hint:*** the program should count the number of tweets for any provided account"
   ]
  },
  {
   "cell_type": "code",
   "execution_count": null,
   "metadata": {},
   "outputs": [],
   "source": [
    "# This is the url you will scrape in this exercise \n",
    "# You will need to add the account credentials to this url\n",
    "url = 'https://twitter.com/'\n",
    "html = requests.get(url).content\n",
    "soup = BeautifulSoup(html, \"lxml\")"
   ]
  },
  {
   "cell_type": "code",
   "execution_count": null,
   "metadata": {},
   "outputs": [],
   "source": [
    "#your code"
   ]
  },
  {
   "cell_type": "markdown",
   "metadata": {},
   "source": [
    "#### Number of followers of a given twitter account"
   ]
  },
  {
   "cell_type": "markdown",
   "metadata": {},
   "source": [
    "You will need to include a ***try/except block*** in case account/s name not found. \n",
    "<br>***Hint:*** the program should count the followers for any provided account"
   ]
  },
  {
   "cell_type": "code",
   "execution_count": null,
   "metadata": {},
   "outputs": [],
   "source": [
    "# This is the url you will scrape in this exercise \n",
    "# You will need to add the account credentials to this url\n",
    "url = 'https://twitter.com/'\n",
    "html = requests.get(url).content\n",
    "soup = BeautifulSoup(html, \"lxml\")"
   ]
  },
  {
   "cell_type": "code",
   "execution_count": null,
   "metadata": {},
   "outputs": [],
   "source": [
    "#your code"
   ]
  },
  {
   "cell_type": "markdown",
   "metadata": {},
   "source": [
    "#### List all language names and number of related articles in the order they appear in wikipedia.org"
   ]
  },
  {
   "cell_type": "code",
   "execution_count": null,
   "metadata": {},
   "outputs": [],
   "source": [
    "# This is the url you will scrape in this exercise\n",
    "url = 'https://www.wikipedia.org/'\n",
    "html = requests.get(url).content\n",
    "soup = BeautifulSoup(html, \"lxml\")"
   ]
  },
  {
   "cell_type": "code",
   "execution_count": null,
   "metadata": {},
   "outputs": [],
   "source": [
    "#your code"
   ]
  },
  {
   "cell_type": "markdown",
   "metadata": {},
   "source": [
    "#### A list with the different kind of datasets available in data.gov.uk "
   ]
  },
  {
   "cell_type": "code",
   "execution_count": null,
   "metadata": {},
   "outputs": [],
   "source": [
    "# This is the url you will scrape in this exercise\n",
    "url = 'https://data.gov.uk/'\n",
    "html = requests.get(url).content\n",
    "soup = BeautifulSoup(html, \"lxml\")"
   ]
  },
  {
   "cell_type": "code",
   "execution_count": null,
   "metadata": {},
   "outputs": [],
   "source": [
    "#your code "
   ]
  },
  {
   "cell_type": "markdown",
   "metadata": {},
   "source": [
    "#### Top 10 languages by number of native speakers stored in a Pandas Dataframe"
   ]
  },
  {
   "cell_type": "code",
   "execution_count": null,
   "metadata": {},
   "outputs": [],
   "source": [
    "# This is the url you will scrape in this exercise\n",
    "url = 'https://en.wikipedia.org/wiki/List_of_languages_by_number_of_native_speakers'"
   ]
  },
  {
   "cell_type": "code",
   "execution_count": null,
   "metadata": {},
   "outputs": [],
   "source": [
    "#your code"
   ]
  },
  {
   "cell_type": "code",
   "execution_count": null,
   "metadata": {},
   "outputs": [],
   "source": []
  },
  {
   "cell_type": "code",
   "execution_count": null,
   "metadata": {},
   "outputs": [],
   "source": []
  },
  {
   "cell_type": "code",
   "execution_count": null,
   "metadata": {},
   "outputs": [],
   "source": []
  },
  {
   "cell_type": "code",
   "execution_count": null,
   "metadata": {},
   "outputs": [],
   "source": []
  },
  {
   "cell_type": "markdown",
   "metadata": {},
   "source": [
    "### BONUS QUESTIONS"
   ]
  },
  {
   "cell_type": "markdown",
   "metadata": {},
   "source": [
    "#### Scrape a certain number of tweets of a given Twitter account."
   ]
  },
  {
   "cell_type": "code",
   "execution_count": null,
   "metadata": {},
   "outputs": [],
   "source": [
    "# This is the url you will scrape in this exercise \n",
    "# You will need to add the account credentials to this url\n",
    "url = 'https://twitter.com/'"
   ]
  },
  {
   "cell_type": "code",
   "execution_count": null,
   "metadata": {},
   "outputs": [],
   "source": [
    "# your code"
   ]
  },
  {
   "cell_type": "markdown",
   "metadata": {},
   "source": [
    "#### IMDB's Top 250 data (movie name, Initial release, director name and stars) as a pandas dataframe"
   ]
  },
  {
   "cell_type": "code",
   "execution_count": null,
   "metadata": {},
   "outputs": [],
   "source": [
    "# This is the url you will scrape in this exercise \n",
    "url = 'https://www.imdb.com/chart/top'"
   ]
  },
  {
   "cell_type": "code",
   "execution_count": null,
   "metadata": {},
   "outputs": [],
   "source": [
    "# your code"
   ]
  },
  {
   "cell_type": "markdown",
   "metadata": {},
   "source": [
    "#### Movie name, year and a brief summary of the top 10 random movies (IMDB) as a pandas dataframe."
   ]
  },
  {
   "cell_type": "code",
   "execution_count": null,
   "metadata": {},
   "outputs": [],
   "source": [
    "#This is the url you will scrape in this exercise\n",
    "url = 'http://www.imdb.com/chart/top'"
   ]
  },
  {
   "cell_type": "code",
   "execution_count": null,
   "metadata": {},
   "outputs": [],
   "source": [
    "#your code"
   ]
  },
  {
   "cell_type": "markdown",
   "metadata": {},
   "source": [
    "#### Find the live weather report (temperature, wind speed, description and weather) of a given city."
   ]
  },
  {
   "cell_type": "code",
   "execution_count": null,
   "metadata": {},
   "outputs": [],
   "source": [
    "#https://openweathermap.org/current\n",
    "city = city=input('Enter the city:')\n",
    "url = 'http://api.openweathermap.org/data/2.5/weather?'+'q='+city+'&APPID=b35975e18dc93725acb092f7272cc6b8&units=metric'"
   ]
  },
  {
   "cell_type": "code",
   "execution_count": null,
   "metadata": {},
   "outputs": [],
   "source": [
    "# your code"
   ]
  },
  {
   "cell_type": "markdown",
   "metadata": {},
   "source": [
    "#### Book name,price and stock availability as a pandas dataframe."
   ]
  },
  {
   "cell_type": "code",
   "execution_count": null,
   "metadata": {},
   "outputs": [],
   "source": [
    "# This is the url you will scrape in this exercise. \n",
    "# It is a fictional bookstore created to be scraped. \n",
    "url = 'http://books.toscrape.com/'"
   ]
  },
  {
   "cell_type": "code",
   "execution_count": null,
   "metadata": {},
   "outputs": [],
   "source": [
    "#your code"
   ]
  }
 ],
 "metadata": {
  "kernelspec": {
   "display_name": "Python 3",
   "language": "python",
   "name": "python3"
  },
  "language_info": {
   "codemirror_mode": {
    "name": "ipython",
    "version": 3
   },
   "file_extension": ".py",
   "mimetype": "text/x-python",
   "name": "python",
   "nbconvert_exporter": "python",
   "pygments_lexer": "ipython3",
   "version": "3.7.2"
  }
 },
 "nbformat": 4,
 "nbformat_minor": 2
}

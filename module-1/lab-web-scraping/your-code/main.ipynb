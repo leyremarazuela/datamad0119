{
 "cells": [
  {
   "cell_type": "markdown",
   "metadata": {},
   "source": [
    "# Web Scraping Lab\n",
    "\n",
    "You will find in this notebook some scrapy exercises to practise your scraping skills.\n",
    "\n",
    "**Tips:**\n",
    "\n",
    "- Check the response status code for each request to ensure you have obtained the intended contennt.\n",
    "- Print the response text in each request to understand the kind of info you are getting and its format.\n",
    "- Check for patterns in the response text to extract the data/info requested in each question.\n",
    "- Visit each url and take a look at its source through Chrome DevTools. You'll need to identify the html tags, special class names etc. used for the html content you are expected to extract."
   ]
  },
  {
   "cell_type": "markdown",
   "metadata": {},
   "source": [
    "- [Requests library](http://docs.python-requests.org/en/master/#the-user-guide) documentation \n",
    "- [Beautiful Soup Doc](https://www.crummy.com/software/BeautifulSoup/bs4/doc/)\n",
    "- [Urllib](https://docs.python.org/3/library/urllib.html#module-urllib)\n",
    "- [re lib](https://docs.python.org/3/library/re.html)\n",
    "- [lxml lib](https://lxml.de/)\n",
    "- [Scrapy](https://scrapy.org/)\n",
    "- [List of HTTP status codes](https://en.wikipedia.org/wiki/List_of_HTTP_status_codes)\n",
    "- [HTML basics](http://www.simplehtmlguide.com/cheatsheet.php)\n",
    "- [CSS basics](https://www.cssbasics.com/#page_start)"
   ]
  },
  {
   "cell_type": "markdown",
   "metadata": {},
   "source": [
    "#### Below are the libraries and modules you may need. `requests`,  `BeautifulSoup` and `pandas` are imported for you. If you prefer to use additional libraries feel free to uncomment them."
   ]
  },
  {
   "cell_type": "code",
   "execution_count": 20,
   "metadata": {},
   "outputs": [],
   "source": [
    "import requests\n",
    "from bs4 import BeautifulSoup\n",
    "import pandas as pd\n",
    "# from pprint import pprint\n",
    "# from lxml import html\n",
    "# from lxml.html import fromstring\n",
    "# import urllib.request\n",
    "# from urllib.request import urlopen\n",
    "# import random\n",
    "# import re\n",
    "# import scrapy"
   ]
  },
  {
   "cell_type": "markdown",
   "metadata": {},
   "source": [
    "#### Download, parse (using BeautifulSoup), and print the content from the Trending Developers page from GitHub:"
   ]
  },
  {
   "cell_type": "code",
   "execution_count": 21,
   "metadata": {},
   "outputs": [],
   "source": [
    "# This is the url you will scrape in this exercise\n",
    "url = 'https://github.com/trending/developers'"
   ]
  },
  {
   "cell_type": "code",
   "execution_count": 47,
   "metadata": {},
   "outputs": [
    {
     "name": "stdout",
     "output_type": "stream",
     "text": [
      "[<h2 class=\"f3 text-normal\">\n",
      "<a href=\"/rsms\">\n",
      "                          rsms\n",
      "                            <span class=\"text-gray text-bold\">\n",
      "                              (Rasmus)\n",
      "                            </span>\n",
      "</a> </h2>, <h2 class=\"f3 text-normal\">\n",
      "<a href=\"/toddmotto\">\n",
      "                          toddmotto\n",
      "                            <span class=\"text-gray text-bold\">\n",
      "                              (Todd Motto)\n",
      "                            </span>\n",
      "</a> </h2>, <h2 class=\"f3 text-normal\">\n",
      "<a href=\"/gto76\">\n",
      "                          gto76\n",
      "                            <span class=\"text-gray text-bold\">\n",
      "                              (Jure Šorn)\n",
      "                            </span>\n",
      "</a> </h2>, <h2 class=\"f3 text-normal\">\n",
      "<a href=\"/NVlabs\">\n",
      "                          NVlabs\n",
      "                            <span class=\"text-gray text-bold\">\n",
      "                              (NVIDIA Research Projects)\n",
      "                            </span>\n",
      "</a> </h2>, <h2 class=\"f3 text-normal\">\n",
      "<a href=\"/isacikgoz\">\n",
      "                          isacikgoz\n",
      "                            <span class=\"text-gray text-bold\">\n",
      "                              (Ibrahim Serdar Acikgoz)\n",
      "                            </span>\n",
      "</a> </h2>, <h2 class=\"f3 text-normal\">\n",
      "<a href=\"/nextapps-de\">\n",
      "                          nextapps-de\n",
      "                            <span class=\"text-gray text-bold\">\n",
      "                              (Nextapps GmbH)\n",
      "                            </span>\n",
      "</a> </h2>, <h2 class=\"f3 text-normal\">\n",
      "<a href=\"/kleampa\">\n",
      "                          kleampa\n",
      "                            <span class=\"text-gray text-bold\">\n",
      "                              (Dragoi Ciprian)\n",
      "                            </span>\n",
      "</a> </h2>, <h2 class=\"f3 text-normal\">\n",
      "<a href=\"/facebook\">\n",
      "                          facebook\n",
      "                            <span class=\"text-gray text-bold\">\n",
      "                              (Facebook)\n",
      "                            </span>\n",
      "</a> </h2>, <h2 class=\"f3 text-normal\">\n",
      "<a href=\"/symfony\">\n",
      "                          symfony\n",
      "                            <span class=\"text-gray text-bold\">\n",
      "                              (Symfony)\n",
      "                            </span>\n",
      "</a> </h2>, <h2 class=\"f3 text-normal\">\n",
      "<a href=\"/Microsoft\">\n",
      "                          Microsoft\n",
      "                            <span class=\"text-gray text-bold\">\n",
      "                              (Microsoft)\n",
      "                            </span>\n",
      "</a> </h2>, <h2 class=\"f3 text-normal\">\n",
      "<a href=\"/google\">\n",
      "                          google\n",
      "                            <span class=\"text-gray text-bold\">\n",
      "                              (Google)\n",
      "                            </span>\n",
      "</a> </h2>, <h2 class=\"f3 text-normal\">\n",
      "<a href=\"/labs42io\">\n",
      "                          labs42io\n",
      "                            <span class=\"text-gray text-bold\">\n",
      "                              (Labs42)\n",
      "                            </span>\n",
      "</a> </h2>, <h2 class=\"f3 text-normal\">\n",
      "<a href=\"/kmario23\">\n",
      "                          kmario23\n",
      "                            <span class=\"text-gray text-bold\">\n",
      "                              (Mario)\n",
      "                            </span>\n",
      "</a> </h2>, <h2 class=\"f3 text-normal\">\n",
      "<a href=\"/sindresorhus\">\n",
      "                          sindresorhus\n",
      "                            <span class=\"text-gray text-bold\">\n",
      "                              (Sindre Sorhus)\n",
      "                            </span>\n",
      "</a> </h2>, <h2 class=\"f3 text-normal\">\n",
      "<a href=\"/pomber\">\n",
      "                          pomber\n",
      "                            <span class=\"text-gray text-bold\">\n",
      "                              (Rodrigo Pombo)\n",
      "                            </span>\n",
      "</a> </h2>, <h2 class=\"f3 text-normal\">\n",
      "<a href=\"/vuejs\">\n",
      "                          vuejs\n",
      "                            <span class=\"text-gray text-bold\">\n",
      "                              (vuejs)\n",
      "                            </span>\n",
      "</a> </h2>, <h2 class=\"f3 text-normal\">\n",
      "<a href=\"/RustPython\">\n",
      "                          RustPython\n",
      "</a> </h2>, <h2 class=\"f3 text-normal\">\n",
      "<a href=\"/vietnguyen91\">\n",
      "                          vietnguyen91\n",
      "                            <span class=\"text-gray text-bold\">\n",
      "                              (Viet Nguyen)\n",
      "                            </span>\n",
      "</a> </h2>, <h2 class=\"f3 text-normal\">\n",
      "<a href=\"/cjbassi\">\n",
      "                          cjbassi\n",
      "                            <span class=\"text-gray text-bold\">\n",
      "                              (Caleb Bassi)\n",
      "                            </span>\n",
      "</a> </h2>, <h2 class=\"f3 text-normal\">\n",
      "<a href=\"/facebookresearch\">\n",
      "                          facebookresearch\n",
      "                            <span class=\"text-gray text-bold\">\n",
      "                              (Facebook Research)\n",
      "                            </span>\n",
      "</a> </h2>, <h2 class=\"f3 text-normal\">\n",
      "<a href=\"/notion-cli\">\n",
      "                          notion-cli\n",
      "                            <span class=\"text-gray text-bold\">\n",
      "                              (Notion: the Hassle-Free Tool Manager for Node)\n",
      "                            </span>\n",
      "</a> </h2>, <h2 class=\"f3 text-normal\">\n",
      "<a href=\"/tyroprogrammer\">\n",
      "                          tyroprogrammer\n",
      "                            <span class=\"text-gray text-bold\">\n",
      "                              (Ganesh Bhattarai)\n",
      "                            </span>\n",
      "</a> </h2>, <h2 class=\"f3 text-normal\">\n",
      "<a href=\"/airbnb\">\n",
      "                          airbnb\n",
      "                            <span class=\"text-gray text-bold\">\n",
      "                              (Airbnb)\n",
      "                            </span>\n",
      "</a> </h2>, <h2 class=\"f3 text-normal\">\n",
      "<a href=\"/tensorflow\">\n",
      "                          tensorflow\n",
      "</a> </h2>, <h2 class=\"f3 text-normal\">\n",
      "<a href=\"/rShetty\">\n",
      "                          rShetty\n",
      "                            <span class=\"text-gray text-bold\">\n",
      "                              (Rajeev N Bharshetty)\n",
      "                            </span>\n",
      "</a> </h2>]\n"
     ]
    }
   ],
   "source": [
    "\"\"\"\n",
    "def getDevelopers(url):\n",
    "    html = requests.get(url).content\n",
    "    soup = BeautifulSoup(html, \"lxml\")\n",
    "    for i in \n",
    "    developers_names = soup.find('h2').renderContents\n",
    "    return developers_names\n",
    "\n",
    "display(getDevelopers('https://github.com/trending/developers'))\n",
    "\n",
    "result = []\n",
    "for h2 in h2_all:\n",
    "    result.extend(h2.find_all('h2'))\n",
    "    \n",
    "print(result)\n",
    "\"\"\"\n",
    "html = requests.get(url).content\n",
    "soup = BeautifulSoup(html, \"lxml\")\n",
    "\n",
    "h2_all = soup.find_all('h2')\n",
    "\n",
    "\n",
    "print(h2_all)\n"
   ]
  },
  {
   "cell_type": "code",
   "execution_count": null,
   "metadata": {},
   "outputs": [],
   "source": []
  },
  {
   "cell_type": "markdown",
   "metadata": {},
   "source": [
    "#### Display the names of the trending developers retrieved in the previous step.\n",
    "\n",
    "Your output should be a Python list of developer names. Each name should not contain any html tag.\n",
    "\n",
    "**Instructions:**\n",
    "\n",
    "1. Find out the html tag and class names used for the developer names. You can achieve this using Chrome DevTools.\n",
    "\n",
    "1. Use BeautifulSoup to extract all the html elements that contain the developer names.\n",
    "\n",
    "1. Use string manipulation techniques to replace whitespaces and linebreaks (i.e. `\\n`) in the *text* of each html element. Use a list to store the clean names.\n",
    "\n",
    "1. Print the list of names.\n",
    "\n",
    "Your output should look like below:\n",
    "\n",
    "```\n",
    "['trimstray (@trimstray)',\n",
    " 'joewalnes (JoeWalnes)',\n",
    " 'charlax (Charles-AxelDein)',\n",
    " 'ForrestKnight (ForrestKnight)',\n",
    " 'revery-ui (revery-ui)',\n",
    " 'alibaba (Alibaba)',\n",
    " 'Microsoft (Microsoft)',\n",
    " 'github (GitHub)',\n",
    " 'facebook (Facebook)',\n",
    " 'boazsegev (Bo)',\n",
    " 'google (Google)',\n",
    " 'cloudfetch',\n",
    " 'sindresorhus (SindreSorhus)',\n",
    " 'tensorflow',\n",
    " 'apache (TheApacheSoftwareFoundation)',\n",
    " 'DevonCrawford (DevonCrawford)',\n",
    " 'ARMmbed (ArmMbed)',\n",
    " 'vuejs (vuejs)',\n",
    " 'fastai (fast.ai)',\n",
    " 'QiShaoXuan (Qi)',\n",
    " 'joelparkerhenderson (JoelParkerHenderson)',\n",
    " 'torvalds (LinusTorvalds)',\n",
    " 'CyC2018',\n",
    " 'komeiji-satori (神楽坂覚々)',\n",
    " 'script-8']\n",
    " ```"
   ]
  },
  {
   "cell_type": "code",
   "execution_count": null,
   "metadata": {},
   "outputs": [],
   "source": [
    "#your code"
   ]
  },
  {
   "cell_type": "markdown",
   "metadata": {},
   "source": [
    "#### Display the trending Python repositories in GitHub\n",
    "\n",
    "The steps to solve this problem is similar to the previous one except that you need to find out the repository names instead of developer names."
   ]
  },
  {
   "cell_type": "code",
   "execution_count": null,
   "metadata": {},
   "outputs": [],
   "source": [
    "# This is the url you will scrape in this exercise\n",
    "url = 'https://github.com/trending/python?since=daily'"
   ]
  },
  {
   "cell_type": "code",
   "execution_count": null,
   "metadata": {},
   "outputs": [],
   "source": [
    "#your code"
   ]
  },
  {
   "cell_type": "markdown",
   "metadata": {},
   "source": [
    "#### Display all the image links from Walt Disney wikipedia page"
   ]
  },
  {
   "cell_type": "code",
   "execution_count": null,
   "metadata": {},
   "outputs": [],
   "source": [
    "# This is the url you will scrape in this exercise\n",
    "url = 'https://en.wikipedia.org/wiki/Walt_Disney'"
   ]
  },
  {
   "cell_type": "code",
   "execution_count": null,
   "metadata": {},
   "outputs": [],
   "source": [
    "#your code"
   ]
  },
  {
   "cell_type": "markdown",
   "metadata": {},
   "source": [
    "#### Retrieve an arbitary Wikipedia page of \"Python\" and create a list of links on that page"
   ]
  },
  {
   "cell_type": "code",
   "execution_count": null,
   "metadata": {},
   "outputs": [],
   "source": [
    "# This is the url you will scrape in this exercise\n",
    "url ='https://en.wikipedia.org/wiki/Python' "
   ]
  },
  {
   "cell_type": "code",
   "execution_count": null,
   "metadata": {},
   "outputs": [],
   "source": [
    "#your code"
   ]
  },
  {
   "cell_type": "markdown",
   "metadata": {},
   "source": [
    "#### Number of Titles that have changed in the United States Code since its last release point "
   ]
  },
  {
   "cell_type": "code",
   "execution_count": null,
   "metadata": {},
   "outputs": [],
   "source": [
    "# This is the url you will scrape in this exercise\n",
    "url = 'http://uscode.house.gov/download/download.shtml'"
   ]
  },
  {
   "cell_type": "code",
   "execution_count": null,
   "metadata": {},
   "outputs": [],
   "source": [
    "#your code"
   ]
  },
  {
   "cell_type": "markdown",
   "metadata": {},
   "source": [
    "#### A Python list with the top ten FBI's Most Wanted names "
   ]
  },
  {
   "cell_type": "code",
   "execution_count": null,
   "metadata": {},
   "outputs": [],
   "source": [
    "# This is the url you will scrape in this exercise\n",
    "url = 'https://www.fbi.gov/wanted/topten'"
   ]
  },
  {
   "cell_type": "code",
   "execution_count": null,
   "metadata": {},
   "outputs": [],
   "source": [
    "#your code "
   ]
  },
  {
   "cell_type": "markdown",
   "metadata": {},
   "source": [
    "####  20 latest earthquakes info (date, time, latitude, longitude and region name) by the EMSC as a pandas dataframe"
   ]
  },
  {
   "cell_type": "code",
   "execution_count": null,
   "metadata": {},
   "outputs": [],
   "source": [
    "# This is the url you will scrape in this exercise\n",
    "url = 'https://www.emsc-csem.org/Earthquake/'"
   ]
  },
  {
   "cell_type": "code",
   "execution_count": null,
   "metadata": {},
   "outputs": [],
   "source": [
    "#your code"
   ]
  },
  {
   "cell_type": "markdown",
   "metadata": {},
   "source": [
    "#### Display the date, days, title, city, country of next 25 hackathon events as a Pandas dataframe table"
   ]
  },
  {
   "cell_type": "code",
   "execution_count": null,
   "metadata": {},
   "outputs": [],
   "source": [
    "# This is the url you will scrape in this exercise\n",
    "url ='https://hackevents.co/hackathons'"
   ]
  },
  {
   "cell_type": "code",
   "execution_count": null,
   "metadata": {},
   "outputs": [],
   "source": [
    "#your code"
   ]
  },
  {
   "cell_type": "markdown",
   "metadata": {},
   "source": [
    "#### Count number of tweets by a given Twitter account."
   ]
  },
  {
   "cell_type": "markdown",
   "metadata": {},
   "source": [
    "You will need to include a ***try/except block*** for account names not found. \n",
    "<br>***Hint:*** the program should count the number of tweets for any provided account"
   ]
  },
  {
   "cell_type": "code",
   "execution_count": null,
   "metadata": {},
   "outputs": [],
   "source": [
    "# This is the url you will scrape in this exercise \n",
    "# You will need to add the account credentials to this url\n",
    "url = 'https://twitter.com/'"
   ]
  },
  {
   "cell_type": "code",
   "execution_count": null,
   "metadata": {},
   "outputs": [],
   "source": [
    "#your code"
   ]
  },
  {
   "cell_type": "markdown",
   "metadata": {},
   "source": [
    "#### Number of followers of a given twitter account"
   ]
  },
  {
   "cell_type": "markdown",
   "metadata": {},
   "source": [
    "You will need to include a ***try/except block*** in case account/s name not found. \n",
    "<br>***Hint:*** the program should count the followers for any provided account"
   ]
  },
  {
   "cell_type": "code",
   "execution_count": null,
   "metadata": {},
   "outputs": [],
   "source": [
    "# This is the url you will scrape in this exercise \n",
    "# You will need to add the account credentials to this url\n",
    "url = 'https://twitter.com/'"
   ]
  },
  {
   "cell_type": "code",
   "execution_count": null,
   "metadata": {},
   "outputs": [],
   "source": [
    "#your code"
   ]
  },
  {
   "cell_type": "markdown",
   "metadata": {},
   "source": [
    "#### List all language names and number of related articles in the order they appear in wikipedia.org"
   ]
  },
  {
   "cell_type": "code",
   "execution_count": null,
   "metadata": {},
   "outputs": [],
   "source": [
    "# This is the url you will scrape in this exercise\n",
    "url = 'https://www.wikipedia.org/'"
   ]
  },
  {
   "cell_type": "code",
   "execution_count": null,
   "metadata": {},
   "outputs": [],
   "source": [
    "#your code"
   ]
  },
  {
   "cell_type": "markdown",
   "metadata": {},
   "source": [
    "#### A list with the different kind of datasets available in data.gov.uk "
   ]
  },
  {
   "cell_type": "code",
   "execution_count": null,
   "metadata": {},
   "outputs": [],
   "source": [
    "# This is the url you will scrape in this exercise\n",
    "url = 'https://data.gov.uk/'"
   ]
  },
  {
   "cell_type": "code",
   "execution_count": null,
   "metadata": {},
   "outputs": [],
   "source": [
    "#your code "
   ]
  },
  {
   "cell_type": "markdown",
   "metadata": {},
   "source": [
    "#### Top 10 languages by number of native speakers stored in a Pandas Dataframe"
   ]
  },
  {
   "cell_type": "code",
   "execution_count": null,
   "metadata": {},
   "outputs": [],
   "source": [
    "# This is the url you will scrape in this exercise\n",
    "url = 'https://en.wikipedia.org/wiki/List_of_languages_by_number_of_native_speakers'"
   ]
  },
  {
   "cell_type": "code",
   "execution_count": null,
   "metadata": {},
   "outputs": [],
   "source": [
    "#your code"
   ]
  },
  {
   "cell_type": "markdown",
   "metadata": {},
   "source": [
    "### BONUS QUESTIONS"
   ]
  },
  {
   "cell_type": "markdown",
   "metadata": {},
   "source": [
    "#### Scrape a certain number of tweets of a given Twitter account."
   ]
  },
  {
   "cell_type": "code",
   "execution_count": null,
   "metadata": {},
   "outputs": [],
   "source": [
    "# This is the url you will scrape in this exercise \n",
    "# You will need to add the account credentials to this url\n",
    "url = 'https://twitter.com/'"
   ]
  },
  {
   "cell_type": "code",
   "execution_count": null,
   "metadata": {},
   "outputs": [],
   "source": [
    "# your code"
   ]
  },
  {
   "cell_type": "markdown",
   "metadata": {},
   "source": [
    "#### IMDB's Top 250 data (movie name, Initial release, director name and stars) as a pandas dataframe"
   ]
  },
  {
   "cell_type": "code",
   "execution_count": null,
   "metadata": {},
   "outputs": [],
   "source": [
    "# This is the url you will scrape in this exercise \n",
    "url = 'https://www.imdb.com/chart/top'"
   ]
  },
  {
   "cell_type": "code",
   "execution_count": null,
   "metadata": {},
   "outputs": [],
   "source": [
    "# your code"
   ]
  },
  {
   "cell_type": "markdown",
   "metadata": {},
   "source": [
    "#### Movie name, year and a brief summary of the top 10 random movies (IMDB) as a pandas dataframe."
   ]
  },
  {
   "cell_type": "code",
   "execution_count": null,
   "metadata": {},
   "outputs": [],
   "source": [
    "#This is the url you will scrape in this exercise\n",
    "url = 'http://www.imdb.com/chart/top'"
   ]
  },
  {
   "cell_type": "code",
   "execution_count": null,
   "metadata": {},
   "outputs": [],
   "source": [
    "#your code"
   ]
  },
  {
   "cell_type": "markdown",
   "metadata": {},
   "source": [
    "#### Find the live weather report (temperature, wind speed, description and weather) of a given city."
   ]
  },
  {
   "cell_type": "code",
   "execution_count": null,
   "metadata": {},
   "outputs": [],
   "source": [
    "#https://openweathermap.org/current\n",
    "city = city=input('Enter the city:')\n",
    "url = 'http://api.openweathermap.org/data/2.5/weather?'+'q='+city+'&APPID=b35975e18dc93725acb092f7272cc6b8&units=metric'"
   ]
  },
  {
   "cell_type": "code",
   "execution_count": null,
   "metadata": {},
   "outputs": [],
   "source": [
    "# your code"
   ]
  },
  {
   "cell_type": "markdown",
   "metadata": {},
   "source": [
    "#### Book name,price and stock availability as a pandas dataframe."
   ]
  },
  {
   "cell_type": "code",
   "execution_count": null,
   "metadata": {},
   "outputs": [],
   "source": [
    "# This is the url you will scrape in this exercise. \n",
    "# It is a fictional bookstore created to be scraped. \n",
    "url = 'http://books.toscrape.com/'"
   ]
  },
  {
   "cell_type": "code",
   "execution_count": null,
   "metadata": {},
   "outputs": [],
   "source": [
    "#your code"
   ]
  }
 ],
 "metadata": {
  "kernelspec": {
   "display_name": "Python 3",
   "language": "python",
   "name": "python3"
  },
  "language_info": {
   "codemirror_mode": {
    "name": "ipython",
    "version": 3
   },
   "file_extension": ".py",
   "mimetype": "text/x-python",
   "name": "python",
   "nbconvert_exporter": "python",
   "pygments_lexer": "ipython3",
   "version": "3.7.2"
  }
 },
 "nbformat": 4,
 "nbformat_minor": 2
}

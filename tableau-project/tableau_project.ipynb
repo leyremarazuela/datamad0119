{
 "cells": [
  {
   "cell_type": "markdown",
   "metadata": {},
   "source": [
    "TABLEAU_PROJECT"
   ]
  },
  {
   "cell_type": "code",
   "execution_count": 1,
   "metadata": {},
   "outputs": [],
   "source": [
    "import pandas as pd \n",
    "import pymongo\n",
    "MongoClient = pymongo.MongoClient\n",
    "\n",
    "import time\n",
    "\n",
    "client = MongoClient()\n",
    "db = client.companies"
   ]
  },
  {
   "cell_type": "code",
   "execution_count": 2,
   "metadata": {},
   "outputs": [
    {
     "data": {
      "text/plain": [
       "Database(MongoClient(host=['localhost:27017'], document_class=dict, tz_aware=False, connect=True), 'companies')"
      ]
     },
     "execution_count": 2,
     "metadata": {},
     "output_type": "execute_result"
    }
   ],
   "source": [
    "client.companies"
   ]
  },
  {
   "cell_type": "code",
   "execution_count": 3,
   "metadata": {},
   "outputs": [],
   "source": [
    "cursor = db.companies.find({\"$and\": [ {\"category_code\":\"software\"} , {\"founded_year\" : {\"$gte\": 2000} }, {\"offices.latitude\" : {\"$ne\": None} }, {\"offices.longitude\" : {\"$ne\": None} } ] },{\"name\": 1, \"company_code\": 1,\"offices.latitude\":1, \"offices.longitude\":1})\n",
    "ls_cursor= list(cursor)\n",
    "\n",
    "#print(ls_cursor)\n",
    "\n",
    "a = []\n",
    "counter = 0\n",
    "\n",
    "for i in ls_cursor:\n",
    "    i = counter\n",
    "    a.append(ls_cursor[i])\n",
    "    counter += 1"
   ]
  },
  {
   "cell_type": "code",
   "execution_count": 4,
   "metadata": {},
   "outputs": [
    {
     "data": {
      "text/html": [
       "<div>\n",
       "<style scoped>\n",
       "    .dataframe tbody tr th:only-of-type {\n",
       "        vertical-align: middle;\n",
       "    }\n",
       "\n",
       "    .dataframe tbody tr th {\n",
       "        vertical-align: top;\n",
       "    }\n",
       "\n",
       "    .dataframe thead th {\n",
       "        text-align: right;\n",
       "    }\n",
       "</style>\n",
       "<table border=\"1\" class=\"dataframe\">\n",
       "  <thead>\n",
       "    <tr style=\"text-align: right;\">\n",
       "      <th></th>\n",
       "      <th>_id</th>\n",
       "      <th>name</th>\n",
       "      <th>offices</th>\n",
       "    </tr>\n",
       "  </thead>\n",
       "  <tbody>\n",
       "    <tr>\n",
       "      <th>0</th>\n",
       "      <td>52cdef7c4bab8bd675297d8c</td>\n",
       "      <td>Zoho</td>\n",
       "      <td>[{'latitude': 37.692934, 'longitude': -121.904...</td>\n",
       "    </tr>\n",
       "    <tr>\n",
       "      <th>1</th>\n",
       "      <td>52cdef7c4bab8bd675297e30</td>\n",
       "      <td>GoingOn</td>\n",
       "      <td>[{'latitude': 37.782263, 'longitude': -122.392...</td>\n",
       "    </tr>\n",
       "    <tr>\n",
       "      <th>2</th>\n",
       "      <td>52cdef7c4bab8bd675297e3e</td>\n",
       "      <td>spigit</td>\n",
       "      <td>[{'latitude': 37.6637279, 'longitude': -121.87...</td>\n",
       "    </tr>\n",
       "    <tr>\n",
       "      <th>3</th>\n",
       "      <td>52cdef7c4bab8bd675297e3c</td>\n",
       "      <td>Bazaarvoice</td>\n",
       "      <td>[{'latitude': 30.407545, 'longitude': -97.7176...</td>\n",
       "    </tr>\n",
       "    <tr>\n",
       "      <th>4</th>\n",
       "      <td>52cdef7c4bab8bd675297e57</td>\n",
       "      <td>GoLightly</td>\n",
       "      <td>[{'latitude': 37.898575, 'longitude': -122.537...</td>\n",
       "    </tr>\n",
       "  </tbody>\n",
       "</table>\n",
       "</div>"
      ],
      "text/plain": [
       "                        _id         name  \\\n",
       "0  52cdef7c4bab8bd675297d8c         Zoho   \n",
       "1  52cdef7c4bab8bd675297e30      GoingOn   \n",
       "2  52cdef7c4bab8bd675297e3e       spigit   \n",
       "3  52cdef7c4bab8bd675297e3c  Bazaarvoice   \n",
       "4  52cdef7c4bab8bd675297e57    GoLightly   \n",
       "\n",
       "                                             offices  \n",
       "0  [{'latitude': 37.692934, 'longitude': -121.904...  \n",
       "1  [{'latitude': 37.782263, 'longitude': -122.392...  \n",
       "2  [{'latitude': 37.6637279, 'longitude': -121.87...  \n",
       "3  [{'latitude': 30.407545, 'longitude': -97.7176...  \n",
       "4  [{'latitude': 37.898575, 'longitude': -122.537...  "
      ]
     },
     "execution_count": 4,
     "metadata": {},
     "output_type": "execute_result"
    }
   ],
   "source": [
    "df = pd.DataFrame(a)\n",
    "df.head()"
   ]
  },
  {
   "cell_type": "code",
   "execution_count": 5,
   "metadata": {},
   "outputs": [
    {
     "data": {
      "text/html": [
       "<div>\n",
       "<style scoped>\n",
       "    .dataframe tbody tr th:only-of-type {\n",
       "        vertical-align: middle;\n",
       "    }\n",
       "\n",
       "    .dataframe tbody tr th {\n",
       "        vertical-align: top;\n",
       "    }\n",
       "\n",
       "    .dataframe thead th {\n",
       "        text-align: right;\n",
       "    }\n",
       "</style>\n",
       "<table border=\"1\" class=\"dataframe\">\n",
       "  <thead>\n",
       "    <tr style=\"text-align: right;\">\n",
       "      <th></th>\n",
       "      <th>0</th>\n",
       "    </tr>\n",
       "  </thead>\n",
       "  <tbody>\n",
       "    <tr>\n",
       "      <th>0</th>\n",
       "      <td>{'latitude': 37.692934, 'longitude': -121.904945}</td>\n",
       "    </tr>\n",
       "    <tr>\n",
       "      <th>1</th>\n",
       "      <td>{'latitude': 37.782263, 'longitude': -122.392142}</td>\n",
       "    </tr>\n",
       "    <tr>\n",
       "      <th>2</th>\n",
       "      <td>{'latitude': 37.6637279, 'longitude': -121.873...</td>\n",
       "    </tr>\n",
       "    <tr>\n",
       "      <th>3</th>\n",
       "      <td>{'latitude': 30.407545, 'longitude': -97.717667}</td>\n",
       "    </tr>\n",
       "    <tr>\n",
       "      <th>4</th>\n",
       "      <td>{'latitude': 37.898575, 'longitude': -122.537302}</td>\n",
       "    </tr>\n",
       "  </tbody>\n",
       "</table>\n",
       "</div>"
      ],
      "text/plain": [
       "                                                   0\n",
       "0  {'latitude': 37.692934, 'longitude': -121.904945}\n",
       "1  {'latitude': 37.782263, 'longitude': -122.392142}\n",
       "2  {'latitude': 37.6637279, 'longitude': -121.873...\n",
       "3   {'latitude': 30.407545, 'longitude': -97.717667}\n",
       "4  {'latitude': 37.898575, 'longitude': -122.537302}"
      ]
     },
     "execution_count": 5,
     "metadata": {},
     "output_type": "execute_result"
    }
   ],
   "source": [
    "b = []\n",
    "counter = 0\n",
    "\n",
    "for i in df[\"offices\"]:\n",
    "    i = counter\n",
    "    b.append(df[\"offices\"][i])\n",
    "    counter += 1\n",
    "\n",
    "df_b = pd.DataFrame(b)\n",
    "df_b = df_b[0] # nos quedamos sólo con la primera sucursal\n",
    "df_b = pd.Series.to_frame(df_b) # convertimos a DF\n",
    "df_b.head()"
   ]
  },
  {
   "cell_type": "code",
   "execution_count": 6,
   "metadata": {},
   "outputs": [
    {
     "data": {
      "text/html": [
       "<div>\n",
       "<style scoped>\n",
       "    .dataframe tbody tr th:only-of-type {\n",
       "        vertical-align: middle;\n",
       "    }\n",
       "\n",
       "    .dataframe tbody tr th {\n",
       "        vertical-align: top;\n",
       "    }\n",
       "\n",
       "    .dataframe thead th {\n",
       "        text-align: right;\n",
       "    }\n",
       "</style>\n",
       "<table border=\"1\" class=\"dataframe\">\n",
       "  <thead>\n",
       "    <tr style=\"text-align: right;\">\n",
       "      <th></th>\n",
       "      <th>name</th>\n",
       "      <th>0</th>\n",
       "      <th>_id</th>\n",
       "    </tr>\n",
       "  </thead>\n",
       "  <tbody>\n",
       "    <tr>\n",
       "      <th>0</th>\n",
       "      <td>Zoho</td>\n",
       "      <td>{'latitude': 37.692934, 'longitude': -121.904945}</td>\n",
       "      <td>52cdef7c4bab8bd675297d8c</td>\n",
       "    </tr>\n",
       "    <tr>\n",
       "      <th>1</th>\n",
       "      <td>GoingOn</td>\n",
       "      <td>{'latitude': 37.782263, 'longitude': -122.392142}</td>\n",
       "      <td>52cdef7c4bab8bd675297e30</td>\n",
       "    </tr>\n",
       "    <tr>\n",
       "      <th>2</th>\n",
       "      <td>spigit</td>\n",
       "      <td>{'latitude': 37.6637279, 'longitude': -121.873...</td>\n",
       "      <td>52cdef7c4bab8bd675297e3e</td>\n",
       "    </tr>\n",
       "    <tr>\n",
       "      <th>3</th>\n",
       "      <td>Bazaarvoice</td>\n",
       "      <td>{'latitude': 30.407545, 'longitude': -97.717667}</td>\n",
       "      <td>52cdef7c4bab8bd675297e3c</td>\n",
       "    </tr>\n",
       "    <tr>\n",
       "      <th>4</th>\n",
       "      <td>GoLightly</td>\n",
       "      <td>{'latitude': 37.898575, 'longitude': -122.537302}</td>\n",
       "      <td>52cdef7c4bab8bd675297e57</td>\n",
       "    </tr>\n",
       "  </tbody>\n",
       "</table>\n",
       "</div>"
      ],
      "text/plain": [
       "          name                                                  0  \\\n",
       "0         Zoho  {'latitude': 37.692934, 'longitude': -121.904945}   \n",
       "1      GoingOn  {'latitude': 37.782263, 'longitude': -122.392142}   \n",
       "2       spigit  {'latitude': 37.6637279, 'longitude': -121.873...   \n",
       "3  Bazaarvoice   {'latitude': 30.407545, 'longitude': -97.717667}   \n",
       "4    GoLightly  {'latitude': 37.898575, 'longitude': -122.537302}   \n",
       "\n",
       "                        _id  \n",
       "0  52cdef7c4bab8bd675297d8c  \n",
       "1  52cdef7c4bab8bd675297e30  \n",
       "2  52cdef7c4bab8bd675297e3e  \n",
       "3  52cdef7c4bab8bd675297e3c  \n",
       "4  52cdef7c4bab8bd675297e57  "
      ]
     },
     "execution_count": 6,
     "metadata": {},
     "output_type": "execute_result"
    }
   ],
   "source": [
    "df_c = pd.concat([df['name'],df_b[0], df['_id']],axis=1)\n",
    "df_c.head()"
   ]
  },
  {
   "cell_type": "code",
   "execution_count": 7,
   "metadata": {},
   "outputs": [
    {
     "data": {
      "text/html": [
       "<div>\n",
       "<style scoped>\n",
       "    .dataframe tbody tr th:only-of-type {\n",
       "        vertical-align: middle;\n",
       "    }\n",
       "\n",
       "    .dataframe tbody tr th {\n",
       "        vertical-align: top;\n",
       "    }\n",
       "\n",
       "    .dataframe thead th {\n",
       "        text-align: right;\n",
       "    }\n",
       "</style>\n",
       "<table border=\"1\" class=\"dataframe\">\n",
       "  <thead>\n",
       "    <tr style=\"text-align: right;\">\n",
       "      <th></th>\n",
       "      <th>name</th>\n",
       "      <th>0</th>\n",
       "      <th>_id</th>\n",
       "    </tr>\n",
       "  </thead>\n",
       "  <tbody>\n",
       "    <tr>\n",
       "      <th>0</th>\n",
       "      <td>Zoho</td>\n",
       "      <td>{'latitude': 37.692934, 'longitude': -121.904945}</td>\n",
       "      <td>52cdef7c4bab8bd675297d8c</td>\n",
       "    </tr>\n",
       "    <tr>\n",
       "      <th>1</th>\n",
       "      <td>GoingOn</td>\n",
       "      <td>{'latitude': 37.782263, 'longitude': -122.392142}</td>\n",
       "      <td>52cdef7c4bab8bd675297e30</td>\n",
       "    </tr>\n",
       "    <tr>\n",
       "      <th>2</th>\n",
       "      <td>spigit</td>\n",
       "      <td>{'latitude': 37.6637279, 'longitude': -121.873...</td>\n",
       "      <td>52cdef7c4bab8bd675297e3e</td>\n",
       "    </tr>\n",
       "    <tr>\n",
       "      <th>3</th>\n",
       "      <td>Bazaarvoice</td>\n",
       "      <td>{'latitude': 30.407545, 'longitude': -97.717667}</td>\n",
       "      <td>52cdef7c4bab8bd675297e3c</td>\n",
       "    </tr>\n",
       "    <tr>\n",
       "      <th>4</th>\n",
       "      <td>GoLightly</td>\n",
       "      <td>{'latitude': 37.898575, 'longitude': -122.537302}</td>\n",
       "      <td>52cdef7c4bab8bd675297e57</td>\n",
       "    </tr>\n",
       "  </tbody>\n",
       "</table>\n",
       "</div>"
      ],
      "text/plain": [
       "          name                                                  0  \\\n",
       "0         Zoho  {'latitude': 37.692934, 'longitude': -121.904945}   \n",
       "1      GoingOn  {'latitude': 37.782263, 'longitude': -122.392142}   \n",
       "2       spigit  {'latitude': 37.6637279, 'longitude': -121.873...   \n",
       "3  Bazaarvoice   {'latitude': 30.407545, 'longitude': -97.717667}   \n",
       "4    GoLightly  {'latitude': 37.898575, 'longitude': -122.537302}   \n",
       "\n",
       "                        _id  \n",
       "0  52cdef7c4bab8bd675297d8c  \n",
       "1  52cdef7c4bab8bd675297e30  \n",
       "2  52cdef7c4bab8bd675297e3e  \n",
       "3  52cdef7c4bab8bd675297e3c  \n",
       "4  52cdef7c4bab8bd675297e57  "
      ]
     },
     "execution_count": 7,
     "metadata": {},
     "output_type": "execute_result"
    }
   ],
   "source": [
    "df_c = df_c.dropna() # eliminamos valores nulos\n",
    "df_c.head()"
   ]
  },
  {
   "cell_type": "code",
   "execution_count": 8,
   "metadata": {},
   "outputs": [
    {
     "data": {
      "text/html": [
       "<div>\n",
       "<style scoped>\n",
       "    .dataframe tbody tr th:only-of-type {\n",
       "        vertical-align: middle;\n",
       "    }\n",
       "\n",
       "    .dataframe tbody tr th {\n",
       "        vertical-align: top;\n",
       "    }\n",
       "\n",
       "    .dataframe thead th {\n",
       "        text-align: right;\n",
       "    }\n",
       "</style>\n",
       "<table border=\"1\" class=\"dataframe\">\n",
       "  <thead>\n",
       "    <tr style=\"text-align: right;\">\n",
       "      <th></th>\n",
       "      <th>index</th>\n",
       "      <th>name</th>\n",
       "      <th>0</th>\n",
       "      <th>_id</th>\n",
       "    </tr>\n",
       "  </thead>\n",
       "  <tbody>\n",
       "    <tr>\n",
       "      <th>0</th>\n",
       "      <td>0</td>\n",
       "      <td>Zoho</td>\n",
       "      <td>{'latitude': 37.692934, 'longitude': -121.904945}</td>\n",
       "      <td>52cdef7c4bab8bd675297d8c</td>\n",
       "    </tr>\n",
       "    <tr>\n",
       "      <th>1</th>\n",
       "      <td>1</td>\n",
       "      <td>GoingOn</td>\n",
       "      <td>{'latitude': 37.782263, 'longitude': -122.392142}</td>\n",
       "      <td>52cdef7c4bab8bd675297e30</td>\n",
       "    </tr>\n",
       "    <tr>\n",
       "      <th>2</th>\n",
       "      <td>2</td>\n",
       "      <td>spigit</td>\n",
       "      <td>{'latitude': 37.6637279, 'longitude': -121.873...</td>\n",
       "      <td>52cdef7c4bab8bd675297e3e</td>\n",
       "    </tr>\n",
       "    <tr>\n",
       "      <th>3</th>\n",
       "      <td>3</td>\n",
       "      <td>Bazaarvoice</td>\n",
       "      <td>{'latitude': 30.407545, 'longitude': -97.717667}</td>\n",
       "      <td>52cdef7c4bab8bd675297e3c</td>\n",
       "    </tr>\n",
       "    <tr>\n",
       "      <th>4</th>\n",
       "      <td>4</td>\n",
       "      <td>GoLightly</td>\n",
       "      <td>{'latitude': 37.898575, 'longitude': -122.537302}</td>\n",
       "      <td>52cdef7c4bab8bd675297e57</td>\n",
       "    </tr>\n",
       "  </tbody>\n",
       "</table>\n",
       "</div>"
      ],
      "text/plain": [
       "   index         name                                                  0  \\\n",
       "0      0         Zoho  {'latitude': 37.692934, 'longitude': -121.904945}   \n",
       "1      1      GoingOn  {'latitude': 37.782263, 'longitude': -122.392142}   \n",
       "2      2       spigit  {'latitude': 37.6637279, 'longitude': -121.873...   \n",
       "3      3  Bazaarvoice   {'latitude': 30.407545, 'longitude': -97.717667}   \n",
       "4      4    GoLightly  {'latitude': 37.898575, 'longitude': -122.537302}   \n",
       "\n",
       "                        _id  \n",
       "0  52cdef7c4bab8bd675297d8c  \n",
       "1  52cdef7c4bab8bd675297e30  \n",
       "2  52cdef7c4bab8bd675297e3e  \n",
       "3  52cdef7c4bab8bd675297e3c  \n",
       "4  52cdef7c4bab8bd675297e57  "
      ]
     },
     "execution_count": 8,
     "metadata": {},
     "output_type": "execute_result"
    }
   ],
   "source": [
    "df_c = df_c.reset_index(drop=False)\n",
    "df_c.head()"
   ]
  },
  {
   "cell_type": "code",
   "execution_count": 9,
   "metadata": {},
   "outputs": [],
   "source": [
    "def toGeoJSON(array):\n",
    "    return {\n",
    "        \"type\":\"Point\",\n",
    "        \"coordinates\":[array['longitude'],array['latitude']]\n",
    "    }\n",
    "\n",
    "\n",
    "df_c[0] = df_c.apply(lambda r: toGeoJSON(r[0]), axis=1)\n"
   ]
  },
  {
   "cell_type": "code",
   "execution_count": 10,
   "metadata": {},
   "outputs": [
    {
     "data": {
      "text/html": [
       "<div>\n",
       "<style scoped>\n",
       "    .dataframe tbody tr th:only-of-type {\n",
       "        vertical-align: middle;\n",
       "    }\n",
       "\n",
       "    .dataframe tbody tr th {\n",
       "        vertical-align: top;\n",
       "    }\n",
       "\n",
       "    .dataframe thead th {\n",
       "        text-align: right;\n",
       "    }\n",
       "</style>\n",
       "<table border=\"1\" class=\"dataframe\">\n",
       "  <thead>\n",
       "    <tr style=\"text-align: right;\">\n",
       "      <th></th>\n",
       "      <th>name</th>\n",
       "      <th>0</th>\n",
       "    </tr>\n",
       "  </thead>\n",
       "  <tbody>\n",
       "    <tr>\n",
       "      <th>0</th>\n",
       "      <td>Zoho</td>\n",
       "      <td>{'type': 'Point', 'coordinates': [-121.904945,...</td>\n",
       "    </tr>\n",
       "    <tr>\n",
       "      <th>1</th>\n",
       "      <td>GoingOn</td>\n",
       "      <td>{'type': 'Point', 'coordinates': [-122.392142,...</td>\n",
       "    </tr>\n",
       "    <tr>\n",
       "      <th>2</th>\n",
       "      <td>spigit</td>\n",
       "      <td>{'type': 'Point', 'coordinates': [-121.8731805...</td>\n",
       "    </tr>\n",
       "    <tr>\n",
       "      <th>3</th>\n",
       "      <td>Bazaarvoice</td>\n",
       "      <td>{'type': 'Point', 'coordinates': [-97.717667, ...</td>\n",
       "    </tr>\n",
       "    <tr>\n",
       "      <th>4</th>\n",
       "      <td>GoLightly</td>\n",
       "      <td>{'type': 'Point', 'coordinates': [-122.537302,...</td>\n",
       "    </tr>\n",
       "  </tbody>\n",
       "</table>\n",
       "</div>"
      ],
      "text/plain": [
       "          name                                                  0\n",
       "0         Zoho  {'type': 'Point', 'coordinates': [-121.904945,...\n",
       "1      GoingOn  {'type': 'Point', 'coordinates': [-122.392142,...\n",
       "2       spigit  {'type': 'Point', 'coordinates': [-121.8731805...\n",
       "3  Bazaarvoice  {'type': 'Point', 'coordinates': [-97.717667, ...\n",
       "4    GoLightly  {'type': 'Point', 'coordinates': [-122.537302,..."
      ]
     },
     "execution_count": 10,
     "metadata": {},
     "output_type": "execute_result"
    }
   ],
   "source": [
    "df_c = df_c.drop(columns=['index','_id'])\n",
    "df_c.head()"
   ]
  },
  {
   "cell_type": "code",
   "execution_count": 11,
   "metadata": {},
   "outputs": [],
   "source": [
    "df_c.to_json('visualize_companies.json', orient=\"records\",lines=True)"
   ]
  },
  {
   "cell_type": "code",
   "execution_count": 12,
   "metadata": {},
   "outputs": [
    {
     "data": {
      "text/plain": [
       "[]"
      ]
     },
     "execution_count": 12,
     "metadata": {},
     "output_type": "execute_result"
    }
   ],
   "source": [
    "cursor = db.df_c.find({\n",
    "  \"position\": {\n",
    "    \"$near\": {\n",
    "      \"$geometry\": {\n",
    "        \"type\": \"Point\",\n",
    "        \"coordinates\": [-121.904945, 37.692934]\n",
    "      }\n",
    "    }\n",
    "  }\n",
    "})\n",
    "      \n",
    "list(cursor)"
   ]
  }
 ],
 "metadata": {
  "kernelspec": {
   "display_name": "Python 3",
   "language": "python",
   "name": "python3"
  },
  "language_info": {
   "codemirror_mode": {
    "name": "ipython",
    "version": 3
   },
   "file_extension": ".py",
   "mimetype": "text/x-python",
   "name": "python",
   "nbconvert_exporter": "python",
   "pygments_lexer": "ipython3",
   "version": "3.7.2"
  }
 },
 "nbformat": 4,
 "nbformat_minor": 2
}

{
 "cells": [
  {
   "cell_type": "markdown",
   "metadata": {},
   "source": [
    "TABLEAU_PROJECT"
   ]
  },
  {
   "cell_type": "code",
   "execution_count": 2,
   "metadata": {},
   "outputs": [],
   "source": [
    "import pandas as pd \n",
    "import pymongo\n",
    "MongoClient = pymongo.MongoClient\n",
    "\n",
    "import time\n",
    "client = MongoClient()\n",
    "db = client.companies"
   ]
  },
  {
   "cell_type": "code",
   "execution_count": 4,
   "metadata": {},
   "outputs": [
    {
     "data": {
      "text/plain": [
       "Database(MongoClient(host=['localhost:27017'], document_class=dict, tz_aware=False, connect=True), 'companies')"
      ]
     },
     "execution_count": 4,
     "metadata": {},
     "output_type": "execute_result"
    }
   ],
   "source": [
    "client.companies"
   ]
  },
  {
   "cell_type": "code",
   "execution_count": 7,
   "metadata": {},
   "outputs": [
    {
     "data": {
      "text/plain": [
       "[]"
      ]
     },
     "execution_count": 7,
     "metadata": {},
     "output_type": "execute_result"
    }
   ],
   "source": [
    "def toGeoJSON(array):\n",
    "    return {\n",
    "        \"type\":\"Point\",\n",
    "        \"coordinates\":[array[0],array[1]]\n",
    "    }\n",
    "\n",
    "def convertCompany(companies):\n",
    "    return {\n",
    "        \"name\": companies[\"name\"],\n",
    "        \"category_code\":companies[\"category_code\"],\n",
    "        \"founded_year\":companies[\"founded_year\"],\n",
    "        \"position\": toGeoJSON(companies[\"address\"][\"coord\"])\n",
    "    }\n",
    "\n",
    "cursor = db.companies.find({\"address.coord\":{\"$size\":2}},{\"_id\":0})\n",
    "geoRestaurants = list(map(lambda r: convertCompany(r),cursor))\n",
    "geoRestaurants"
   ]
  },
  {
   "cell_type": "code",
   "execution_count": null,
   "metadata": {},
   "outputs": [],
   "source": []
  },
  {
   "cell_type": "code",
   "execution_count": null,
   "metadata": {},
   "outputs": [],
   "source": []
  },
  {
   "cell_type": "code",
   "execution_count": null,
   "metadata": {},
   "outputs": [],
   "source": [
    "query3 = { \"category_code\": 'software' } \n",
    "cursor3 = db.companies.find(query3)\n",
    "#list(cursor3)       \n",
    "PUT THESE COMPANIES IN A LIST\n",
    "FIND THE LOCATION FOR EACH COMPANY USING LATITUDE AND LONGITUDE"
   ]
  }
 ],
 "metadata": {
  "kernelspec": {
   "display_name": "Python 3",
   "language": "python",
   "name": "python3"
  },
  "language_info": {
   "codemirror_mode": {
    "name": "ipython",
    "version": 3
   },
   "file_extension": ".py",
   "mimetype": "text/x-python",
   "name": "python",
   "nbconvert_exporter": "python",
   "pygments_lexer": "ipython3",
   "version": "3.7.2"
  }
 },
 "nbformat": 4,
 "nbformat_minor": 2
}

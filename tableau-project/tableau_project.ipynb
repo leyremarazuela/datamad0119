{
 "cells": [
  {
   "cell_type": "markdown",
   "metadata": {},
   "source": [
    "TABLEAU_PROJECT"
   ]
  },
  {
   "cell_type": "code",
   "execution_count": 1,
   "metadata": {},
   "outputs": [],
   "source": [
    "import pandas as pd \n",
    "import pymongo\n",
    "MongoClient = pymongo.MongoClient\n",
    "\n",
    "import geojson\n",
    "from geojson import Point, Feature, FeatureCollection, dump\n",
    "import time\n",
    "\n",
    "client = MongoClient()\n",
    "db = client.companies"
   ]
  },
  {
   "cell_type": "code",
   "execution_count": 2,
   "metadata": {},
   "outputs": [
    {
     "data": {
      "text/plain": [
       "Database(MongoClient(host=['localhost:27017'], document_class=dict, tz_aware=False, connect=True), 'companies')"
      ]
     },
     "execution_count": 2,
     "metadata": {},
     "output_type": "execute_result"
    }
   ],
   "source": [
    "client.companies"
   ]
  },
  {
   "cell_type": "code",
   "execution_count": 3,
   "metadata": {},
   "outputs": [],
   "source": [
    "cursor = db.companies.find({\"$and\": [ {\"category_code\":\"software\"} , {\"founded_year\" : {\"$gte\": 2000} }, {\"offices.latitude\" : {\"$ne\": None} }, {\"offices.longitude\" : {\"$ne\": None} } ] },{\"name\": 1, \"company_code\": 1,\"offices.latitude\":1, \"offices.longitude\":1})\n",
    "ls_cursor= list(cursor)\n",
    "\n",
    "#print(ls_cursor)\n",
    "\n",
    "a = []\n",
    "counter = 0\n",
    "\n",
    "for i in ls_cursor:\n",
    "    i = counter\n",
    "    a.append(ls_cursor[i])\n",
    "    counter += 1"
   ]
  },
  {
   "cell_type": "code",
   "execution_count": 4,
   "metadata": {},
   "outputs": [
    {
     "data": {
      "text/html": [
       "<div>\n",
       "<style scoped>\n",
       "    .dataframe tbody tr th:only-of-type {\n",
       "        vertical-align: middle;\n",
       "    }\n",
       "\n",
       "    .dataframe tbody tr th {\n",
       "        vertical-align: top;\n",
       "    }\n",
       "\n",
       "    .dataframe thead th {\n",
       "        text-align: right;\n",
       "    }\n",
       "</style>\n",
       "<table border=\"1\" class=\"dataframe\">\n",
       "  <thead>\n",
       "    <tr style=\"text-align: right;\">\n",
       "      <th></th>\n",
       "      <th>_id</th>\n",
       "      <th>name</th>\n",
       "      <th>offices</th>\n",
       "    </tr>\n",
       "  </thead>\n",
       "  <tbody>\n",
       "    <tr>\n",
       "      <th>0</th>\n",
       "      <td>52cdef7c4bab8bd675297d8c</td>\n",
       "      <td>Zoho</td>\n",
       "      <td>[{'latitude': 37.692934, 'longitude': -121.904...</td>\n",
       "    </tr>\n",
       "    <tr>\n",
       "      <th>1</th>\n",
       "      <td>52cdef7c4bab8bd675297e30</td>\n",
       "      <td>GoingOn</td>\n",
       "      <td>[{'latitude': 37.782263, 'longitude': -122.392...</td>\n",
       "    </tr>\n",
       "    <tr>\n",
       "      <th>2</th>\n",
       "      <td>52cdef7c4bab8bd675297e3e</td>\n",
       "      <td>spigit</td>\n",
       "      <td>[{'latitude': 37.6637279, 'longitude': -121.87...</td>\n",
       "    </tr>\n",
       "    <tr>\n",
       "      <th>3</th>\n",
       "      <td>52cdef7c4bab8bd675297e3c</td>\n",
       "      <td>Bazaarvoice</td>\n",
       "      <td>[{'latitude': 30.407545, 'longitude': -97.7176...</td>\n",
       "    </tr>\n",
       "    <tr>\n",
       "      <th>4</th>\n",
       "      <td>52cdef7c4bab8bd675297e57</td>\n",
       "      <td>GoLightly</td>\n",
       "      <td>[{'latitude': 37.898575, 'longitude': -122.537...</td>\n",
       "    </tr>\n",
       "  </tbody>\n",
       "</table>\n",
       "</div>"
      ],
      "text/plain": [
       "                        _id         name  \\\n",
       "0  52cdef7c4bab8bd675297d8c         Zoho   \n",
       "1  52cdef7c4bab8bd675297e30      GoingOn   \n",
       "2  52cdef7c4bab8bd675297e3e       spigit   \n",
       "3  52cdef7c4bab8bd675297e3c  Bazaarvoice   \n",
       "4  52cdef7c4bab8bd675297e57    GoLightly   \n",
       "\n",
       "                                             offices  \n",
       "0  [{'latitude': 37.692934, 'longitude': -121.904...  \n",
       "1  [{'latitude': 37.782263, 'longitude': -122.392...  \n",
       "2  [{'latitude': 37.6637279, 'longitude': -121.87...  \n",
       "3  [{'latitude': 30.407545, 'longitude': -97.7176...  \n",
       "4  [{'latitude': 37.898575, 'longitude': -122.537...  "
      ]
     },
     "execution_count": 4,
     "metadata": {},
     "output_type": "execute_result"
    }
   ],
   "source": [
    "df = pd.DataFrame(a)\n",
    "df.head()"
   ]
  },
  {
   "cell_type": "code",
   "execution_count": 5,
   "metadata": {},
   "outputs": [
    {
     "data": {
      "text/html": [
       "<div>\n",
       "<style scoped>\n",
       "    .dataframe tbody tr th:only-of-type {\n",
       "        vertical-align: middle;\n",
       "    }\n",
       "\n",
       "    .dataframe tbody tr th {\n",
       "        vertical-align: top;\n",
       "    }\n",
       "\n",
       "    .dataframe thead th {\n",
       "        text-align: right;\n",
       "    }\n",
       "</style>\n",
       "<table border=\"1\" class=\"dataframe\">\n",
       "  <thead>\n",
       "    <tr style=\"text-align: right;\">\n",
       "      <th></th>\n",
       "      <th>_id</th>\n",
       "      <th>name</th>\n",
       "      <th>offices</th>\n",
       "      <th>coords</th>\n",
       "    </tr>\n",
       "  </thead>\n",
       "  <tbody>\n",
       "    <tr>\n",
       "      <th>0</th>\n",
       "      <td>52cdef7c4bab8bd675297d8c</td>\n",
       "      <td>Zoho</td>\n",
       "      <td>[{'latitude': 37.692934, 'longitude': -121.904...</td>\n",
       "      <td>{'latitude': 37.692934, 'longitude': -121.904945}</td>\n",
       "    </tr>\n",
       "    <tr>\n",
       "      <th>1</th>\n",
       "      <td>52cdef7c4bab8bd675297e30</td>\n",
       "      <td>GoingOn</td>\n",
       "      <td>[{'latitude': 37.782263, 'longitude': -122.392...</td>\n",
       "      <td>{'latitude': 37.782263, 'longitude': -122.392142}</td>\n",
       "    </tr>\n",
       "    <tr>\n",
       "      <th>2</th>\n",
       "      <td>52cdef7c4bab8bd675297e3e</td>\n",
       "      <td>spigit</td>\n",
       "      <td>[{'latitude': 37.6637279, 'longitude': -121.87...</td>\n",
       "      <td>{'latitude': 37.6637279, 'longitude': -121.873...</td>\n",
       "    </tr>\n",
       "    <tr>\n",
       "      <th>3</th>\n",
       "      <td>52cdef7c4bab8bd675297e3c</td>\n",
       "      <td>Bazaarvoice</td>\n",
       "      <td>[{'latitude': 30.407545, 'longitude': -97.7176...</td>\n",
       "      <td>{'latitude': 30.407545, 'longitude': -97.717667}</td>\n",
       "    </tr>\n",
       "    <tr>\n",
       "      <th>4</th>\n",
       "      <td>52cdef7c4bab8bd675297e57</td>\n",
       "      <td>GoLightly</td>\n",
       "      <td>[{'latitude': 37.898575, 'longitude': -122.537...</td>\n",
       "      <td>{'latitude': 37.898575, 'longitude': -122.537302}</td>\n",
       "    </tr>\n",
       "  </tbody>\n",
       "</table>\n",
       "</div>"
      ],
      "text/plain": [
       "                        _id         name  \\\n",
       "0  52cdef7c4bab8bd675297d8c         Zoho   \n",
       "1  52cdef7c4bab8bd675297e30      GoingOn   \n",
       "2  52cdef7c4bab8bd675297e3e       spigit   \n",
       "3  52cdef7c4bab8bd675297e3c  Bazaarvoice   \n",
       "4  52cdef7c4bab8bd675297e57    GoLightly   \n",
       "\n",
       "                                             offices  \\\n",
       "0  [{'latitude': 37.692934, 'longitude': -121.904...   \n",
       "1  [{'latitude': 37.782263, 'longitude': -122.392...   \n",
       "2  [{'latitude': 37.6637279, 'longitude': -121.87...   \n",
       "3  [{'latitude': 30.407545, 'longitude': -97.7176...   \n",
       "4  [{'latitude': 37.898575, 'longitude': -122.537...   \n",
       "\n",
       "                                              coords  \n",
       "0  {'latitude': 37.692934, 'longitude': -121.904945}  \n",
       "1  {'latitude': 37.782263, 'longitude': -122.392142}  \n",
       "2  {'latitude': 37.6637279, 'longitude': -121.873...  \n",
       "3   {'latitude': 30.407545, 'longitude': -97.717667}  \n",
       "4  {'latitude': 37.898575, 'longitude': -122.537302}  "
      ]
     },
     "execution_count": 5,
     "metadata": {},
     "output_type": "execute_result"
    }
   ],
   "source": [
    "b = []\n",
    "counter = 0\n",
    "\n",
    "for i in df[\"offices\"]:\n",
    "    i = counter\n",
    "    b.append(df[\"offices\"][i])\n",
    "    counter += 1\n",
    "\n",
    "df_b = pd.DataFrame(b)\n",
    "df_b = df_b[0] # nos quedamos sólo con la primera sucursal\n",
    "df_b = pd.Series.to_frame(df_b) # convertimos a DF\n",
    "df['coords'] = df_b\n",
    "df.head()"
   ]
  },
  {
   "cell_type": "code",
   "execution_count": 6,
   "metadata": {},
   "outputs": [],
   "source": [
    "# eliminas columna offices\n",
    "df = df.drop('offices', axis=1, inplace=True)\n",
    "\n",
    "# eliminas nulos en coors\n",
    "df \n",
    "\n",
    "# json_normalize cords\n"
   ]
  },
  {
   "cell_type": "code",
   "execution_count": 7,
   "metadata": {},
   "outputs": [
    {
     "data": {
      "text/html": [
       "<div>\n",
       "<style scoped>\n",
       "    .dataframe tbody tr th:only-of-type {\n",
       "        vertical-align: middle;\n",
       "    }\n",
       "\n",
       "    .dataframe tbody tr th {\n",
       "        vertical-align: top;\n",
       "    }\n",
       "\n",
       "    .dataframe thead th {\n",
       "        text-align: right;\n",
       "    }\n",
       "</style>\n",
       "<table border=\"1\" class=\"dataframe\">\n",
       "  <thead>\n",
       "    <tr style=\"text-align: right;\">\n",
       "      <th></th>\n",
       "      <th>0</th>\n",
       "    </tr>\n",
       "  </thead>\n",
       "  <tbody>\n",
       "    <tr>\n",
       "      <th>0</th>\n",
       "      <td>{'latitude': 37.692934, 'longitude': -121.904945}</td>\n",
       "    </tr>\n",
       "    <tr>\n",
       "      <th>1</th>\n",
       "      <td>{'latitude': 37.782263, 'longitude': -122.392142}</td>\n",
       "    </tr>\n",
       "    <tr>\n",
       "      <th>2</th>\n",
       "      <td>{'latitude': 37.6637279, 'longitude': -121.873...</td>\n",
       "    </tr>\n",
       "    <tr>\n",
       "      <th>3</th>\n",
       "      <td>{'latitude': 30.407545, 'longitude': -97.717667}</td>\n",
       "    </tr>\n",
       "    <tr>\n",
       "      <th>4</th>\n",
       "      <td>{'latitude': 37.898575, 'longitude': -122.537302}</td>\n",
       "    </tr>\n",
       "  </tbody>\n",
       "</table>\n",
       "</div>"
      ],
      "text/plain": [
       "                                                   0\n",
       "0  {'latitude': 37.692934, 'longitude': -121.904945}\n",
       "1  {'latitude': 37.782263, 'longitude': -122.392142}\n",
       "2  {'latitude': 37.6637279, 'longitude': -121.873...\n",
       "3   {'latitude': 30.407545, 'longitude': -97.717667}\n",
       "4  {'latitude': 37.898575, 'longitude': -122.537302}"
      ]
     },
     "execution_count": 7,
     "metadata": {},
     "output_type": "execute_result"
    }
   ],
   "source": [
    "# df_b = df_b.dropna() # eliminamos valores nuos\n",
    "df_b.head()"
   ]
  },
  {
   "cell_type": "code",
   "execution_count": 11,
   "metadata": {},
   "outputs": [],
   "source": [
    "df"
   ]
  },
  {
   "cell_type": "code",
   "execution_count": null,
   "metadata": {},
   "outputs": [],
   "source": [
    "df_b = df_b.reset_index(drop=True)\n"
   ]
  },
  {
   "cell_type": "code",
   "execution_count": null,
   "metadata": {},
   "outputs": [],
   "source": [
    "df_b.head()"
   ]
  },
  {
   "cell_type": "code",
   "execution_count": null,
   "metadata": {},
   "outputs": [],
   "source": [
    "df_b[0][65]['longitude']"
   ]
  },
  {
   "cell_type": "code",
   "execution_count": null,
   "metadata": {},
   "outputs": [],
   "source": [
    "df_b.head()"
   ]
  },
  {
   "cell_type": "code",
   "execution_count": null,
   "metadata": {},
   "outputs": [],
   "source": [
    "longitude = []\n",
    "latitude = []\n",
    "counter = 0\n",
    "\n",
    "for i in df_b[0]:\n",
    "    i = counter\n",
    "    longitude.append(df_b[0][i]['longitude'])\n",
    "    latitude.append(df_b[0][i]['latitude'])\n",
    "    counter += 1\n"
   ]
  },
  {
   "cell_type": "code",
   "execution_count": null,
   "metadata": {},
   "outputs": [],
   "source": [
    "df_b['lat'] = latitude\n",
    "df_b['long'] = longitude\n",
    "\n",
    "df_b.head()"
   ]
  },
  {
   "cell_type": "markdown",
   "metadata": {},
   "source": [
    "clean_df = pd.concat([df,df_b],axis=1)\n",
    "clean_df.drop(['offices\"], inplace=True, axis=1)\n"
   ]
  },
  {
   "cell_type": "markdown",
   "metadata": {},
   "source": [
    "{\n",
    "   db.places.find : {\n",
    "     near: {\n",
    "       geometry: {\n",
    "          type: \"Point\" ,\n",
    "          coordinates: [ longitude , latitude ]\n",
    "       },\n",
    "     }\n",
    "   }\n",
    "}"
   ]
  },
  {
   "cell_type": "code",
   "execution_count": null,
   "metadata": {},
   "outputs": [],
   "source": []
  }
 ],
 "metadata": {
  "kernelspec": {
   "display_name": "Python 3",
   "language": "python",
   "name": "python3"
  },
  "language_info": {
   "codemirror_mode": {
    "name": "ipython",
    "version": 3
   },
   "file_extension": ".py",
   "mimetype": "text/x-python",
   "name": "python",
   "nbconvert_exporter": "python",
   "pygments_lexer": "ipython3",
   "version": "3.7.2"
  }
 },
 "nbformat": 4,
 "nbformat_minor": 2
}

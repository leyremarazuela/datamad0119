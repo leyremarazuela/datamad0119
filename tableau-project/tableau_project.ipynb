{
 "cells": [
  {
   "cell_type": "markdown",
   "metadata": {},
   "source": [
    "TABLEAU_PROJECT"
   ]
  },
  {
   "cell_type": "code",
   "execution_count": 1,
   "metadata": {},
   "outputs": [],
   "source": [
    "import pandas as pd \n",
    "import pymongo\n",
    "MongoClient = pymongo.MongoClient\n",
    "\n",
    "import time\n",
    "client = MongoClient()\n",
    "db = client.companies"
   ]
  },
  {
   "cell_type": "code",
   "execution_count": 2,
   "metadata": {},
   "outputs": [
    {
     "data": {
      "text/plain": [
       "Database(MongoClient(host=['localhost:27017'], document_class=dict, tz_aware=False, connect=True), 'companies')"
      ]
     },
     "execution_count": 2,
     "metadata": {},
     "output_type": "execute_result"
    }
   ],
   "source": [
    "client.companies"
   ]
  },
  {
   "cell_type": "code",
   "execution_count": 3,
   "metadata": {},
   "outputs": [
    {
     "data": {
      "text/plain": [
       "1655"
      ]
     },
     "execution_count": 3,
     "metadata": {},
     "output_type": "execute_result"
    }
   ],
   "source": [
    "cursor = db.companies.find({\"$and\": [ {\"category_code\":\"software\"} , {\"founded_year\" : {\"$gte\": 2000} } ] },{\"name\": 1, \"company_code\": 1})\n",
    "ls_cursor= list(cursor)\n",
    "\n",
    "#print(ls_cursor)\n",
    "len(ls_cursor)"
   ]
  },
  {
   "cell_type": "markdown",
   "metadata": {},
   "source": [
    "Como introducir?\n",
    "\"offices.latitude\"\n",
    "\"offices.longitude\""
   ]
  },
  {
   "cell_type": "markdown",
   "metadata": {},
   "source": [
    "def toGeoJSON(array):\n",
    "    return {\n",
    "        \"type\":\"Point\",\n",
    "        \"coordinates\":[array[0],array[1]]\n",
    "    }\n",
    "\n",
    "def convertRestaurant(restaurant):\n",
    "    return {\n",
    "        \"name\": restaurant[\"name\"],\n",
    "        \"cuisine\":restaurant[\"cuisine\"],\n",
    "        \"position\": toGeoJSON(restaurant[\"address\"][\"coord\"])\n",
    "    }\n",
    "\n",
    "\n",
    "cursor = db.restaurants.find({\"address.coord\":{\"$size\":2}},{\"_id\":0})\n",
    "geoRestaurants = list(map(lambda r: convertRestaurant(r),cursor))\n"
   ]
  },
  {
   "cell_type": "code",
   "execution_count": 16,
   "metadata": {},
   "outputs": [
    {
     "ename": "SyntaxError",
     "evalue": "invalid syntax (<ipython-input-16-436e9208089c>, line 16)",
     "output_type": "error",
     "traceback": [
      "\u001b[0;36m  File \u001b[0;32m\"<ipython-input-16-436e9208089c>\"\u001b[0;36m, line \u001b[0;32m16\u001b[0m\n\u001b[0;31m    geoCompanies = list(map(lambda r: convertCompany(r),cursor))\u001b[0m\n\u001b[0m               ^\u001b[0m\n\u001b[0;31mSyntaxError\u001b[0m\u001b[0;31m:\u001b[0m invalid syntax\n"
     ]
    }
   ],
   "source": [
    "def toGeoJSON(latitude,longitude):\n",
    "    return {\n",
    "        \"type\":\"Point\",\n",
    "        \"latitude\":\"latitude\",\n",
    "        \"longitude\":\"longitude\"\n",
    "    }\n",
    "\n",
    "def convertCompany(companies):\n",
    "    return {\n",
    "        \"name\": companies[\"name\"],\n",
    "        \"latitude\": toGeoJSON(companies[\"offices\"][\"latitude\"],companies[\"offices\"][\"longitude\"]),\n",
    "        \"longitude\": toGeoJSON(companies[\"offices\"][\"longitude\"]) \n",
    "    }\n",
    "\n",
    "cursor = db.companies.find(({\"offices.latitude\":{\"$size\":1}},{\"_id\":0})\n",
    "geoCompanies = list(map(lambda r: convertCompany(r),cursor))"
   ]
  },
  {
   "cell_type": "code",
   "execution_count": 14,
   "metadata": {},
   "outputs": [
    {
     "data": {
      "text/html": [
       "<div>\n",
       "<style scoped>\n",
       "    .dataframe tbody tr th:only-of-type {\n",
       "        vertical-align: middle;\n",
       "    }\n",
       "\n",
       "    .dataframe tbody tr th {\n",
       "        vertical-align: top;\n",
       "    }\n",
       "\n",
       "    .dataframe thead th {\n",
       "        text-align: right;\n",
       "    }\n",
       "</style>\n",
       "<table border=\"1\" class=\"dataframe\">\n",
       "  <thead>\n",
       "    <tr style=\"text-align: right;\">\n",
       "      <th></th>\n",
       "    </tr>\n",
       "  </thead>\n",
       "  <tbody>\n",
       "  </tbody>\n",
       "</table>\n",
       "</div>"
      ],
      "text/plain": [
       "Empty DataFrame\n",
       "Columns: []\n",
       "Index: []"
      ]
     },
     "execution_count": 14,
     "metadata": {},
     "output_type": "execute_result"
    }
   ],
   "source": [
    "df = pd.DataFrame(geoCompanies)\n",
    "df.head()\n"
   ]
  },
  {
   "cell_type": "code",
   "execution_count": null,
   "metadata": {},
   "outputs": [],
   "source": []
  }
 ],
 "metadata": {
  "kernelspec": {
   "display_name": "Python 3",
   "language": "python",
   "name": "python3"
  },
  "language_info": {
   "codemirror_mode": {
    "name": "ipython",
    "version": 3
   },
   "file_extension": ".py",
   "mimetype": "text/x-python",
   "name": "python",
   "nbconvert_exporter": "python",
   "pygments_lexer": "ipython3",
   "version": "3.7.2"
  }
 },
 "nbformat": 4,
 "nbformat_minor": 2
}

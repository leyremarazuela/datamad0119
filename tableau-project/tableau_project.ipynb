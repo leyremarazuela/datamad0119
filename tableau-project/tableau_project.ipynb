{
 "cells": [
  {
   "cell_type": "markdown",
   "metadata": {},
   "source": [
    "TABLEAU_PROJECT"
   ]
  },
  {
   "cell_type": "code",
   "execution_count": 1,
   "metadata": {},
   "outputs": [],
   "source": [
    "import pandas as pd \n",
    "import pymongo\n",
    "MongoClient = pymongo.MongoClient\n",
    "\n",
    "import time\n",
    "\n",
    "client = MongoClient()\n",
    "db = client.companies"
   ]
  },
  {
   "cell_type": "code",
   "execution_count": 2,
   "metadata": {},
   "outputs": [
    {
     "data": {
      "text/plain": [
       "Database(MongoClient(host=['localhost:27017'], document_class=dict, tz_aware=False, connect=True), 'companies')"
      ]
     },
     "execution_count": 2,
     "metadata": {},
     "output_type": "execute_result"
    }
   ],
   "source": [
    "client.companies"
   ]
  },
  {
   "cell_type": "code",
   "execution_count": 3,
   "metadata": {},
   "outputs": [],
   "source": [
    "cursor = db.companies.find({\"$and\": [ {\"category_code\":\"software\"} , {\"founded_year\" : {\"$gte\": 2000} }, {\"offices.latitude\" : {\"$ne\": None} }, {\"offices.longitude\" : {\"$ne\": None} } ] },{\"name\": 1, \"company_code\": 1,\"offices.latitude\":1, \"offices.longitude\":1})\n",
    "ls_cursor= list(cursor)\n",
    "\n",
    "#print(ls_cursor)\n",
    "\n",
    "a = []\n",
    "counter = 0\n",
    "\n",
    "for i in ls_cursor:\n",
    "    i = counter\n",
    "    a.append(ls_cursor[i])\n",
    "    counter += 1"
   ]
  },
  {
   "cell_type": "code",
   "execution_count": 4,
   "metadata": {},
   "outputs": [
    {
     "data": {
      "text/html": [
       "<div>\n",
       "<style scoped>\n",
       "    .dataframe tbody tr th:only-of-type {\n",
       "        vertical-align: middle;\n",
       "    }\n",
       "\n",
       "    .dataframe tbody tr th {\n",
       "        vertical-align: top;\n",
       "    }\n",
       "\n",
       "    .dataframe thead th {\n",
       "        text-align: right;\n",
       "    }\n",
       "</style>\n",
       "<table border=\"1\" class=\"dataframe\">\n",
       "  <thead>\n",
       "    <tr style=\"text-align: right;\">\n",
       "      <th></th>\n",
       "      <th>_id</th>\n",
       "      <th>name</th>\n",
       "      <th>offices</th>\n",
       "    </tr>\n",
       "  </thead>\n",
       "  <tbody>\n",
       "    <tr>\n",
       "      <th>0</th>\n",
       "      <td>52cdef7c4bab8bd675297d8c</td>\n",
       "      <td>Zoho</td>\n",
       "      <td>[{'latitude': 37.692934, 'longitude': -121.904...</td>\n",
       "    </tr>\n",
       "    <tr>\n",
       "      <th>1</th>\n",
       "      <td>52cdef7c4bab8bd675297e30</td>\n",
       "      <td>GoingOn</td>\n",
       "      <td>[{'latitude': 37.782263, 'longitude': -122.392...</td>\n",
       "    </tr>\n",
       "    <tr>\n",
       "      <th>2</th>\n",
       "      <td>52cdef7c4bab8bd675297e3e</td>\n",
       "      <td>spigit</td>\n",
       "      <td>[{'latitude': 37.6637279, 'longitude': -121.87...</td>\n",
       "    </tr>\n",
       "    <tr>\n",
       "      <th>3</th>\n",
       "      <td>52cdef7c4bab8bd675297e3c</td>\n",
       "      <td>Bazaarvoice</td>\n",
       "      <td>[{'latitude': 30.407545, 'longitude': -97.7176...</td>\n",
       "    </tr>\n",
       "    <tr>\n",
       "      <th>4</th>\n",
       "      <td>52cdef7c4bab8bd675297e57</td>\n",
       "      <td>GoLightly</td>\n",
       "      <td>[{'latitude': 37.898575, 'longitude': -122.537...</td>\n",
       "    </tr>\n",
       "  </tbody>\n",
       "</table>\n",
       "</div>"
      ],
      "text/plain": [
       "                        _id         name  \\\n",
       "0  52cdef7c4bab8bd675297d8c         Zoho   \n",
       "1  52cdef7c4bab8bd675297e30      GoingOn   \n",
       "2  52cdef7c4bab8bd675297e3e       spigit   \n",
       "3  52cdef7c4bab8bd675297e3c  Bazaarvoice   \n",
       "4  52cdef7c4bab8bd675297e57    GoLightly   \n",
       "\n",
       "                                             offices  \n",
       "0  [{'latitude': 37.692934, 'longitude': -121.904...  \n",
       "1  [{'latitude': 37.782263, 'longitude': -122.392...  \n",
       "2  [{'latitude': 37.6637279, 'longitude': -121.87...  \n",
       "3  [{'latitude': 30.407545, 'longitude': -97.7176...  \n",
       "4  [{'latitude': 37.898575, 'longitude': -122.537...  "
      ]
     },
     "execution_count": 4,
     "metadata": {},
     "output_type": "execute_result"
    }
   ],
   "source": [
    "df = pd.DataFrame(a)\n",
    "df.head()"
   ]
  },
  {
   "cell_type": "code",
   "execution_count": 5,
   "metadata": {},
   "outputs": [
    {
     "data": {
      "text/html": [
       "<div>\n",
       "<style scoped>\n",
       "    .dataframe tbody tr th:only-of-type {\n",
       "        vertical-align: middle;\n",
       "    }\n",
       "\n",
       "    .dataframe tbody tr th {\n",
       "        vertical-align: top;\n",
       "    }\n",
       "\n",
       "    .dataframe thead th {\n",
       "        text-align: right;\n",
       "    }\n",
       "</style>\n",
       "<table border=\"1\" class=\"dataframe\">\n",
       "  <thead>\n",
       "    <tr style=\"text-align: right;\">\n",
       "      <th></th>\n",
       "      <th>0</th>\n",
       "    </tr>\n",
       "  </thead>\n",
       "  <tbody>\n",
       "    <tr>\n",
       "      <th>0</th>\n",
       "      <td>{'latitude': 37.692934, 'longitude': -121.904945}</td>\n",
       "    </tr>\n",
       "    <tr>\n",
       "      <th>1</th>\n",
       "      <td>{'latitude': 37.782263, 'longitude': -122.392142}</td>\n",
       "    </tr>\n",
       "    <tr>\n",
       "      <th>2</th>\n",
       "      <td>{'latitude': 37.6637279, 'longitude': -121.873...</td>\n",
       "    </tr>\n",
       "    <tr>\n",
       "      <th>3</th>\n",
       "      <td>{'latitude': 30.407545, 'longitude': -97.717667}</td>\n",
       "    </tr>\n",
       "    <tr>\n",
       "      <th>4</th>\n",
       "      <td>{'latitude': 37.898575, 'longitude': -122.537302}</td>\n",
       "    </tr>\n",
       "  </tbody>\n",
       "</table>\n",
       "</div>"
      ],
      "text/plain": [
       "                                                   0\n",
       "0  {'latitude': 37.692934, 'longitude': -121.904945}\n",
       "1  {'latitude': 37.782263, 'longitude': -122.392142}\n",
       "2  {'latitude': 37.6637279, 'longitude': -121.873...\n",
       "3   {'latitude': 30.407545, 'longitude': -97.717667}\n",
       "4  {'latitude': 37.898575, 'longitude': -122.537302}"
      ]
     },
     "execution_count": 5,
     "metadata": {},
     "output_type": "execute_result"
    }
   ],
   "source": [
    "b = []\n",
    "counter = 0\n",
    "\n",
    "for i in df[\"offices\"]:\n",
    "    i = counter\n",
    "    b.append(df[\"offices\"][i])\n",
    "    counter += 1\n",
    "\n",
    "df_b = pd.DataFrame(b)\n",
    "df_b = df_b[0] # nos quedamos sólo con la primera sucursal\n",
    "df_b = pd.Series.to_frame(df_b) # convertimos a DF\n",
    "df_b.head()"
   ]
  },
  {
   "cell_type": "code",
   "execution_count": 6,
   "metadata": {},
   "outputs": [],
   "source": [
    "#print(df_b[0][65])\n",
    "#print(df['coords'][65])\n",
    "#len(df_b)\n",
    "# df['coords'] = df_b[0]\n",
    "# df.index -> RangeIndex(start=0, stop=1133, step=1)\n",
    "#df_b.index"
   ]
  },
  {
   "cell_type": "code",
   "execution_count": 7,
   "metadata": {},
   "outputs": [
    {
     "data": {
      "text/plain": [
       "Int64Index([   0,    1,    2,    3,    4,    5,    6,    7,    8,    9,\n",
       "            ...\n",
       "            1118, 1119, 1121, 1123, 1124, 1128, 1129, 1130, 1131, 1132],\n",
       "           dtype='int64', length=958)"
      ]
     },
     "execution_count": 7,
     "metadata": {},
     "output_type": "execute_result"
    }
   ],
   "source": [
    "df_b = df_b.dropna() # eliminamos valores nulos\n",
    "df_b.head()\n",
    "df_b.index\n"
   ]
  },
  {
   "cell_type": "markdown",
   "metadata": {},
   "source": [
    "ls = list(range(len(df)))\n",
    "\n",
    "for i in ls:\n",
    "    if df['offices'][i][0].items() == None:\n",
    "        df = df.drop(df.index[i], inplace=True)\n",
    "len(df) "
   ]
  },
  {
   "cell_type": "code",
   "execution_count": 8,
   "metadata": {},
   "outputs": [
    {
     "data": {
      "text/html": [
       "<div>\n",
       "<style scoped>\n",
       "    .dataframe tbody tr th:only-of-type {\n",
       "        vertical-align: middle;\n",
       "    }\n",
       "\n",
       "    .dataframe tbody tr th {\n",
       "        vertical-align: top;\n",
       "    }\n",
       "\n",
       "    .dataframe thead th {\n",
       "        text-align: right;\n",
       "    }\n",
       "</style>\n",
       "<table border=\"1\" class=\"dataframe\">\n",
       "  <thead>\n",
       "    <tr style=\"text-align: right;\">\n",
       "      <th></th>\n",
       "      <th>index</th>\n",
       "      <th>0</th>\n",
       "    </tr>\n",
       "  </thead>\n",
       "  <tbody>\n",
       "    <tr>\n",
       "      <th>0</th>\n",
       "      <td>0</td>\n",
       "      <td>{'latitude': 37.692934, 'longitude': -121.904945}</td>\n",
       "    </tr>\n",
       "    <tr>\n",
       "      <th>1</th>\n",
       "      <td>1</td>\n",
       "      <td>{'latitude': 37.782263, 'longitude': -122.392142}</td>\n",
       "    </tr>\n",
       "    <tr>\n",
       "      <th>2</th>\n",
       "      <td>2</td>\n",
       "      <td>{'latitude': 37.6637279, 'longitude': -121.873...</td>\n",
       "    </tr>\n",
       "    <tr>\n",
       "      <th>3</th>\n",
       "      <td>3</td>\n",
       "      <td>{'latitude': 30.407545, 'longitude': -97.717667}</td>\n",
       "    </tr>\n",
       "    <tr>\n",
       "      <th>4</th>\n",
       "      <td>4</td>\n",
       "      <td>{'latitude': 37.898575, 'longitude': -122.537302}</td>\n",
       "    </tr>\n",
       "  </tbody>\n",
       "</table>\n",
       "</div>"
      ],
      "text/plain": [
       "   index                                                  0\n",
       "0      0  {'latitude': 37.692934, 'longitude': -121.904945}\n",
       "1      1  {'latitude': 37.782263, 'longitude': -122.392142}\n",
       "2      2  {'latitude': 37.6637279, 'longitude': -121.873...\n",
       "3      3   {'latitude': 30.407545, 'longitude': -97.717667}\n",
       "4      4  {'latitude': 37.898575, 'longitude': -122.537302}"
      ]
     },
     "execution_count": 8,
     "metadata": {},
     "output_type": "execute_result"
    }
   ],
   "source": [
    "df_b = df_b.reset_index(drop=False)\n",
    "df_b.head()"
   ]
  },
  {
   "cell_type": "code",
   "execution_count": 9,
   "metadata": {},
   "outputs": [
    {
     "data": {
      "text/plain": [
       "-122.391843"
      ]
     },
     "execution_count": 9,
     "metadata": {},
     "output_type": "execute_result"
    }
   ],
   "source": [
    "df_b[0][65]['longitude']"
   ]
  },
  {
   "cell_type": "code",
   "execution_count": 10,
   "metadata": {},
   "outputs": [],
   "source": [
    "longitude = []\n",
    "latitude = []\n",
    "counter = 0\n",
    "\n",
    "for i in df_b[0]:\n",
    "    i = counter\n",
    "    longitude.append(df_b[0][i]['longitude'])\n",
    "    latitude.append(df_b[0][i]['latitude'])\n",
    "    counter += 1\n"
   ]
  },
  {
   "cell_type": "code",
   "execution_count": 11,
   "metadata": {},
   "outputs": [
    {
     "data": {
      "text/html": [
       "<div>\n",
       "<style scoped>\n",
       "    .dataframe tbody tr th:only-of-type {\n",
       "        vertical-align: middle;\n",
       "    }\n",
       "\n",
       "    .dataframe tbody tr th {\n",
       "        vertical-align: top;\n",
       "    }\n",
       "\n",
       "    .dataframe thead th {\n",
       "        text-align: right;\n",
       "    }\n",
       "</style>\n",
       "<table border=\"1\" class=\"dataframe\">\n",
       "  <thead>\n",
       "    <tr style=\"text-align: right;\">\n",
       "      <th></th>\n",
       "      <th>index</th>\n",
       "      <th>0</th>\n",
       "      <th>lat</th>\n",
       "      <th>long</th>\n",
       "    </tr>\n",
       "  </thead>\n",
       "  <tbody>\n",
       "    <tr>\n",
       "      <th>0</th>\n",
       "      <td>0</td>\n",
       "      <td>{'latitude': 37.692934, 'longitude': -121.904945}</td>\n",
       "      <td>37.692934</td>\n",
       "      <td>-121.904945</td>\n",
       "    </tr>\n",
       "    <tr>\n",
       "      <th>1</th>\n",
       "      <td>1</td>\n",
       "      <td>{'latitude': 37.782263, 'longitude': -122.392142}</td>\n",
       "      <td>37.782263</td>\n",
       "      <td>-122.392142</td>\n",
       "    </tr>\n",
       "    <tr>\n",
       "      <th>2</th>\n",
       "      <td>2</td>\n",
       "      <td>{'latitude': 37.6637279, 'longitude': -121.873...</td>\n",
       "      <td>37.663728</td>\n",
       "      <td>-121.873181</td>\n",
       "    </tr>\n",
       "    <tr>\n",
       "      <th>3</th>\n",
       "      <td>3</td>\n",
       "      <td>{'latitude': 30.407545, 'longitude': -97.717667}</td>\n",
       "      <td>30.407545</td>\n",
       "      <td>-97.717667</td>\n",
       "    </tr>\n",
       "    <tr>\n",
       "      <th>4</th>\n",
       "      <td>4</td>\n",
       "      <td>{'latitude': 37.898575, 'longitude': -122.537302}</td>\n",
       "      <td>37.898575</td>\n",
       "      <td>-122.537302</td>\n",
       "    </tr>\n",
       "  </tbody>\n",
       "</table>\n",
       "</div>"
      ],
      "text/plain": [
       "   index                                                  0        lat  \\\n",
       "0      0  {'latitude': 37.692934, 'longitude': -121.904945}  37.692934   \n",
       "1      1  {'latitude': 37.782263, 'longitude': -122.392142}  37.782263   \n",
       "2      2  {'latitude': 37.6637279, 'longitude': -121.873...  37.663728   \n",
       "3      3   {'latitude': 30.407545, 'longitude': -97.717667}  30.407545   \n",
       "4      4  {'latitude': 37.898575, 'longitude': -122.537302}  37.898575   \n",
       "\n",
       "         long  \n",
       "0 -121.904945  \n",
       "1 -122.392142  \n",
       "2 -121.873181  \n",
       "3  -97.717667  \n",
       "4 -122.537302  "
      ]
     },
     "execution_count": 11,
     "metadata": {},
     "output_type": "execute_result"
    }
   ],
   "source": [
    "df_b['lat'] = latitude\n",
    "df_b['long'] = longitude\n",
    "\n",
    "df_b.head()"
   ]
  },
  {
   "cell_type": "code",
   "execution_count": 25,
   "metadata": {},
   "outputs": [
    {
     "ename": "NameError",
     "evalue": "name 'coordinates' is not defined",
     "output_type": "error",
     "traceback": [
      "\u001b[0;31m---------------------------------------------------------------------------\u001b[0m",
      "\u001b[0;31mNameError\u001b[0m                                 Traceback (most recent call last)",
      "\u001b[0;32m<ipython-input-25-cc58b59010a4>\u001b[0m in \u001b[0;36m<module>\u001b[0;34m\u001b[0m\n\u001b[1;32m      6\u001b[0m            \"$geometry\": { \n\u001b[1;32m      7\u001b[0m                \u001b[0mtype\u001b[0m\u001b[0;34m:\u001b[0m \u001b[0;34m\"Point\"\u001b[0m\u001b[0;34m,\u001b[0m\u001b[0;34m\u001b[0m\u001b[0;34m\u001b[0m\u001b[0m\n\u001b[0;32m----> 8\u001b[0;31m                \u001b[0mcoordinates\u001b[0m\u001b[0;34m:\u001b[0m \u001b[0;34m[\u001b[0m \u001b[0;36m180\u001b[0m\u001b[0;34m,\u001b[0m \u001b[0;36m90\u001b[0m\u001b[0;34m]\u001b[0m\u001b[0;34m\u001b[0m\u001b[0;34m\u001b[0m\u001b[0m\n\u001b[0m\u001b[1;32m      9\u001b[0m             }\n\u001b[1;32m     10\u001b[0m         },\n",
      "\u001b[0;31mNameError\u001b[0m: name 'coordinates' is not defined"
     ]
    }
   ],
   "source": [
    "import geojson\n",
    "\n",
    "{\n",
    "    db.companies.find : {\n",
    "       \"$near\": {\n",
    "           \"$geometry\": { \n",
    "               type: \"Point\",  \n",
    "               coordinates: [ 180, 90] \n",
    "            }\n",
    "        },\n",
    "    }\n",
    "}"
   ]
  },
  {
   "cell_type": "code",
   "execution_count": null,
   "metadata": {},
   "outputs": [],
   "source": []
  }
 ],
 "metadata": {
  "kernelspec": {
   "display_name": "Python 3",
   "language": "python",
   "name": "python3"
  },
  "language_info": {
   "codemirror_mode": {
    "name": "ipython",
    "version": 3
   },
   "file_extension": ".py",
   "mimetype": "text/x-python",
   "name": "python",
   "nbconvert_exporter": "python",
   "pygments_lexer": "ipython3",
   "version": "3.7.2"
  }
 },
 "nbformat": 4,
 "nbformat_minor": 2
}
